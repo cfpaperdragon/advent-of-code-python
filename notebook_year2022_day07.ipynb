{
 "cells": [
  {
   "cell_type": "code",
   "execution_count": 37,
   "metadata": {},
   "outputs": [],
   "source": [
    "import aoc.common.process_input\n",
    "import aoc.year2022.day07\n",
    "fileContent = aoc.common.process_input.read_file(\"input\\\\year2022\\\\day07\\\\example.txt\")        \n",
    "input_content = aoc.common.process_input.to_function_list(fileContent, str)"
   ]
  },
  {
   "cell_type": "code",
   "execution_count": 38,
   "metadata": {},
   "outputs": [],
   "source": [
    "# tree\n",
    "tree = {}\n",
    "root = '/'\n",
    "# each node\n",
    "# dir: <name> = (d, parent_dir, <size>, <list of nodes inside>)\n",
    "# file: <name> = (f, parent_dir, <size>)\n",
    "current_dir = root\n",
    "tree[root] = ('d', None, 0, [])\n",
    "i_type = 0\n",
    "i_parent = 1\n",
    "i_size = 2\n",
    "i_list = 3"
   ]
  },
  {
   "cell_type": "code",
   "execution_count": 39,
   "metadata": {},
   "outputs": [
    {
     "ename": "Exception",
     "evalue": "Can't move to dir //a from /",
     "output_type": "error",
     "traceback": [
      "\u001b[1;31m---------------------------------------------------------------------------\u001b[0m",
      "\u001b[1;31mException\u001b[0m                                 Traceback (most recent call last)",
      "Cell \u001b[1;32mIn [39], line 22\u001b[0m\n\u001b[0;32m     20\u001b[0m new_dir \u001b[39m=\u001b[39m current_dir \u001b[39m+\u001b[39m \u001b[39m\"\u001b[39m\u001b[39m/\u001b[39m\u001b[39m\"\u001b[39m \u001b[39m+\u001b[39m parts[\u001b[39m2\u001b[39m]\n\u001b[0;32m     21\u001b[0m \u001b[39mif\u001b[39;00m new_dir \u001b[39mnot\u001b[39;00m \u001b[39min\u001b[39;00m tree[current_dir][i_list]:\n\u001b[1;32m---> 22\u001b[0m     \u001b[39mraise\u001b[39;00m \u001b[39mException\u001b[39;00m(\u001b[39m\"\u001b[39m\u001b[39mCan\u001b[39m\u001b[39m'\u001b[39m\u001b[39mt move to dir \u001b[39m\u001b[39m\"\u001b[39m \u001b[39m+\u001b[39m new_dir \u001b[39m+\u001b[39m \u001b[39m\"\u001b[39m\u001b[39m from \u001b[39m\u001b[39m\"\u001b[39m \u001b[39m+\u001b[39m current_dir)\n\u001b[0;32m     23\u001b[0m \u001b[39melse\u001b[39;00m:\n\u001b[0;32m     24\u001b[0m     current_dir \u001b[39m=\u001b[39m new_dir\n",
      "\u001b[1;31mException\u001b[0m: Can't move to dir //a from /"
     ]
    }
   ],
   "source": [
    "for input in input_content:\n",
    "    to_print = input\n",
    "    parts = input.split(' ')\n",
    "    if '$' in input: # it is a command\n",
    "        if parts[1] == 'cd':\n",
    "            if parts[2] == \"..\":\n",
    "                to_print += ' # move up a dir'\n",
    "                # move up a dir\n",
    "                if current_dir == root:\n",
    "                    raise Exception(\"Can't move up from root!\")\n",
    "                current_dir = tree[current_dir][i_parent]\n",
    "            else:\n",
    "                to_print += ' # move into a dir'\n",
    "                # move into a dir\n",
    "                if parts[2] == root:\n",
    "                    # don't need to do anything, this is the initial state\n",
    "                    continue\n",
    "                else:\n",
    "                    # can only move to a dir that is below the current_dir\n",
    "                    new_dir = current_dir + \"/\" + parts[2]\n",
    "                    if new_dir not in tree[current_dir][i_list]:\n",
    "                        raise Exception(\"Can't move to dir \" + new_dir + \" from \" + current_dir)\n",
    "                    else:\n",
    "                        current_dir = new_dir\n",
    "        elif parts[1] == 'ls':\n",
    "            to_print += ' # list dir'\n",
    "            # current_dir should be a dir otherwise it will bork\n",
    "            if tree[current_dir][i_type] != 'd':\n",
    "                raise Exception('Invalid ls: ' + current_dir + ' is not a dir.')\n",
    "        else:\n",
    "            raise Exception('Invalid Command: ' + parts[1])\n",
    "    else:\n",
    "        name = parts[1]\n",
    "        fullpath = current_dir + \"/\" + name\n",
    "        if parts[0] == 'dir':\n",
    "            to_print += ' # it is a dir'\n",
    "            size = 0\n",
    "            # new node in the tree\n",
    "            tree[fullpath] = ('d', current_dir, size, [])\n",
    "        else: \n",
    "            to_print += ' # it is a file'\n",
    "            size = int(parts[0])\n",
    "            # new node in the tree\n",
    "            tree[fullpath] = ('f', current_dir, size)\n",
    "        # need to add it to the current_dir\n",
    "        current = tree[current_dir]\n",
    "        file_list = current[i_list]\n",
    "        file_list.append(fullpath)\n",
    "        tree[current_dir] = (current[i_type], current[i_parent], current[i_size], file_list)\n",
    "    # print(to_print)\n",
    "# print(tree)\n"
   ]
  },
  {
   "cell_type": "code",
   "execution_count": null,
   "metadata": {},
   "outputs": [
    {
     "name": "stdout",
     "output_type": "stream",
     "text": [
      "/: ('d', None, 0, ['//a', '//b.txt', '//c.dat', '//d'])\n",
      "//a: ('d', '/', 0, ['//a/e', '//a/f', '//a/g', '//a/h.lst'])\n",
      "//b.txt: ('f', '/', 14848514)\n",
      "//c.dat: ('f', '/', 8504156)\n",
      "//d: ('d', '/', 0, ['//d/j', '//d/d.log', '//d/d.ext', '//d/k'])\n",
      "//a/e: ('d', '//a', 0, ['//a/e/i'])\n",
      "//a/f: ('f', '//a', 29116)\n",
      "//a/g: ('f', '//a', 2557)\n",
      "//a/h.lst: ('f', '//a', 62596)\n",
      "//a/e/i: ('f', '//a/e', 584)\n",
      "//d/j: ('f', '//d', 4060174)\n",
      "//d/d.log: ('f', '//d', 8033020)\n",
      "//d/d.ext: ('f', '//d', 5626152)\n",
      "//d/k: ('f', '//d', 7214296)\n"
     ]
    }
   ],
   "source": [
    "for key in tree:\n",
    "    print(f\"{key}: {tree[key]}\")\n"
   ]
  },
  {
   "cell_type": "code",
   "execution_count": null,
   "metadata": {},
   "outputs": [
    {
     "data": {
      "text/plain": [
       "48381165"
      ]
     },
     "execution_count": 26,
     "metadata": {},
     "output_type": "execute_result"
    }
   ],
   "source": [
    "# calculate dir size\n",
    "def calculate_dir_size(tree, dir):\n",
    "    dir_node = tree[dir]\n",
    "    if dir_node[i_type] == 'f':\n",
    "        return dir_node[i_size]\n",
    "    if dir_node[i_size] != 0:\n",
    "        return dir_node[i_size]\n",
    "    size = 0\n",
    "    for sub_node in dir_node[i_list]:\n",
    "        node = tree[sub_node]\n",
    "        if node[i_size] != 0:\n",
    "            size += node[i_size]\n",
    "        else:\n",
    "            size += calculate_dir_size(tree, sub_node)\n",
    "    # update size\n",
    "    tree[dir] = (dir_node[i_type], dir_node[i_parent], size, dir_node[i_list])\n",
    "    return size\n",
    "\n",
    "calculate_dir_size(tree, root)\n",
    "\n"
   ]
  },
  {
   "cell_type": "code",
   "execution_count": null,
   "metadata": {},
   "outputs": [
    {
     "name": "stdout",
     "output_type": "stream",
     "text": [
      "95437\n"
     ]
    }
   ],
   "source": [
    "result = 0\n",
    "for key in tree.keys():\n",
    "    node = tree[key]\n",
    "    if node[i_type] == 'd':\n",
    "        if node[i_size] <= 100000:\n",
    "            result += node[i_size]\n",
    "print(result)"
   ]
  },
  {
   "cell_type": "code",
   "execution_count": null,
   "metadata": {},
   "outputs": [],
   "source": []
  }
 ],
 "metadata": {
  "kernelspec": {
   "display_name": "Python 3.10.0 64-bit",
   "language": "python",
   "name": "python3"
  },
  "language_info": {
   "codemirror_mode": {
    "name": "ipython",
    "version": 3
   },
   "file_extension": ".py",
   "mimetype": "text/x-python",
   "name": "python",
   "nbconvert_exporter": "python",
   "pygments_lexer": "ipython3",
   "version": "3.10.0"
  },
  "orig_nbformat": 4,
  "vscode": {
   "interpreter": {
    "hash": "26de051ba29f2982a8de78e945f0abaf191376122a1563185a90213a26c5da77"
   }
  }
 },
 "nbformat": 4,
 "nbformat_minor": 2
}
