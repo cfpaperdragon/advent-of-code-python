{
 "cells": [
  {
   "cell_type": "code",
   "execution_count": 1,
   "metadata": {},
   "outputs": [],
   "source": [
    "import aoc.common.process_input\n",
    "import aoc.year2022.day16"
   ]
  },
  {
   "cell_type": "code",
   "execution_count": 2,
   "metadata": {},
   "outputs": [],
   "source": [
    "fileContent = aoc.common.process_input.read_file(\"input\\\\year2022\\\\day16\\\\example.txt\")        \n",
    "input_list = aoc.common.process_input.to_function_list(fileContent, str)"
   ]
  },
  {
   "cell_type": "code",
   "execution_count": null,
   "metadata": {},
   "outputs": [],
   "source": [
    "# so this is a graph - a dictionary :D\n",
    "# each valve = {'index': 0, 'name'='', 'flowrate': 0, 'tunnels': ['DD','II','BB']}\n",
    "# but I can keep the state in a grid\n",
    "\n",
    "# Valve AA has flow rate=0; tunnels lead to valves DD, II, BB\n",
    "def process_valve(input_line, index):\n",
    "    parts = input_line.split(';')\n",
    "    valve_parts = parts[0].strip().split(' ')\n",
    "    valve_name = valve_parts[1]\n",
    "    valve_rate_str = valve_parts[4]\n",
    "    # sanity check\n",
    "    if 'rate' not in valve_rate_str:\n",
    "        raise Exception('rate not found in rate_part')\n",
    "    flow_rate = int(valve_rate_str[4:])\n",
    "\n",
    "    # incomplete\n",
    "\n",
    "\n",
    "def load_valves(input_list):\n",
    "    valves = {}\n",
    "\n",
    "    for i in range(len(input_list)):\n",
    "        name, valve = process_valve(input_list[i], i)\n",
    "        valves[name] = valve\n",
    "\n",
    "    return valves\n",
    "\n",
    "name, valve = process_valve('Valve AA has flow rate=0; tunnels lead to valves DD, II, BB', 0)\n",
    "print(name, valve)\n",
    "name, valve = process_valve('Valve HH has flow rate=22; tunnel leads to valve GG', 0)\n",
    "print(name, valve)"
   ]
  }
 ],
 "metadata": {
  "kernelspec": {
   "display_name": "Python 3.10.5 64-bit",
   "language": "python",
   "name": "python3"
  },
  "language_info": {
   "codemirror_mode": {
    "name": "ipython",
    "version": 3
   },
   "file_extension": ".py",
   "mimetype": "text/x-python",
   "name": "python",
   "nbconvert_exporter": "python",
   "pygments_lexer": "ipython3",
   "version": "3.10.5"
  },
  "orig_nbformat": 4,
  "vscode": {
   "interpreter": {
    "hash": "607db476e417971f05b607c2dd14e77ee8262c2c4c20dea422522c60605a222a"
   }
  }
 },
 "nbformat": 4,
 "nbformat_minor": 2
}
