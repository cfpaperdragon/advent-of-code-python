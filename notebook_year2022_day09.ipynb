{
 "cells": [
  {
   "cell_type": "code",
   "execution_count": 1,
   "metadata": {},
   "outputs": [],
   "source": [
    "import aoc.common.process_input\n",
    "import aoc.year2022.day09\n",
    "from aoc.year2021.cuboid import Cuboid"
   ]
  },
  {
   "cell_type": "code",
   "execution_count": 4,
   "metadata": {},
   "outputs": [],
   "source": [
    "fileContent = aoc.common.process_input.read_file(\"input\\\\year2022\\\\day09\\\\example.txt\")        \n",
    "input_content = aoc.common.process_input.to_function_list(fileContent, str)"
   ]
  },
  {
   "cell_type": "code",
   "execution_count": 5,
   "metadata": {},
   "outputs": [
    {
     "name": "stdout",
     "output_type": "stream",
     "text": [
      "z = 0\n",
      "......\n",
      "......\n",
      "......\n",
      "......\n",
      "......\n",
      "......\n"
     ]
    }
   ],
   "source": [
    "map = Cuboid(0, 5, 0, 5, 0, 0, \".\")\n",
    "map.print()"
   ]
  },
  {
   "cell_type": "code",
   "execution_count": 6,
   "metadata": {},
   "outputs": [],
   "source": [
    "start = (0, 0)\n",
    "tail = start\n",
    "head = start"
   ]
  },
  {
   "cell_type": "code",
   "execution_count": null,
   "metadata": {},
   "outputs": [],
   "source": [
    "def move_all(map, head_position, tail_position, direction, amount):\n",
    "    while amout > 0:\n",
    "        amout -= 1\n",
    "        head_position, tail_position = move_one(map, head_position, tail_position, direction)\n",
    "    return head_position, tail_position\n",
    "\n",
    "def move_head_one(head, direction):\n",
    "    if direction == 'R':\n",
    "        # x +1\n",
    "        new_nead = (head[0]+1, head[1])\n",
    "    elif direction == 'L':\n",
    "        # x -1\n",
    "        new_nead = (head[0]-1, head[1])\n",
    "    elif direction == 'U':\n",
    "        # y +1\n",
    "        new_nead = (head[0], head[1]+1)\n",
    "    elif direction == 'D':\n",
    "        # y -1\n",
    "        new_nead = (head[0], head[1]-1)\n",
    "    else:\n",
    "        raise Exception(\"invalid direction: \" + direction)\n",
    "    return new_nead\n",
    "\n",
    "def move_tail_if_needed(map, head, tail):\n",
    "\n",
    "def move_one(map, head, tail, direction):\n",
    "    # the head always moves\n",
    "    # the tail may move\n",
    "    return head, tail"
   ]
  },
  {
   "cell_type": "code",
   "execution_count": 7,
   "metadata": {},
   "outputs": [
    {
     "name": "stdout",
     "output_type": "stream",
     "text": [
      "R 4\n",
      "U 4\n",
      "L 3\n",
      "D 1\n",
      "R 4\n",
      "D 1\n",
      "L 5\n",
      "R 2\n"
     ]
    }
   ],
   "source": [
    "for input in input_content:\n",
    "    print(input)\n",
    "    # parse input\n",
    "    parts = input.split(' ')\n",
    "    direction = parts[0]\n",
    "    amount = int(parts[1])"
   ]
  }
 ],
 "metadata": {
  "kernelspec": {
   "display_name": "Python 3.10.5 64-bit",
   "language": "python",
   "name": "python3"
  },
  "language_info": {
   "codemirror_mode": {
    "name": "ipython",
    "version": 3
   },
   "file_extension": ".py",
   "mimetype": "text/x-python",
   "name": "python",
   "nbconvert_exporter": "python",
   "pygments_lexer": "ipython3",
   "version": "3.10.5"
  },
  "orig_nbformat": 4,
  "vscode": {
   "interpreter": {
    "hash": "607db476e417971f05b607c2dd14e77ee8262c2c4c20dea422522c60605a222a"
   }
  }
 },
 "nbformat": 4,
 "nbformat_minor": 2
}
