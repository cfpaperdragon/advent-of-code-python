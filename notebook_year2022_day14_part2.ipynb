{
 "cells": [
  {
   "cell_type": "code",
   "execution_count": 8,
   "metadata": {},
   "outputs": [],
   "source": [
    "import aoc.common.process_input\n",
    "import aoc.year2022.day14\n",
    "from aoc.year2022.map import Map2d as Map2d\n",
    "\n",
    "def move_grain_of_sand_part2(grid, sand_source):\n",
    "    x = sand_source[0]\n",
    "    y = sand_source[1]\n",
    "\n",
    "    # min_x, max_x can shift\n",
    "    keys = grid.map.get_keys('all', True)\n",
    "    min_x = keys[0][0]\n",
    "    max_x = keys[0][-1]\n",
    "    # max_y is fixed\n",
    "    max_y = keys[1][-1]\n",
    "\n",
    "    while (True):\n",
    "        if x == min_x:\n",
    "            min_x -= 1\n",
    "            # expand grid to x-1\n",
    "            grid.set(min_x , max_y, '.', '#')\n",
    "        elif x == max_x:\n",
    "            max_x += 1\n",
    "            # expand grid to x+1\n",
    "            grid.set(max_x , max_y, '.', '#')\n",
    "        \n",
    "        # down one step\n",
    "        if grid.get(x, y+1) == '.':\n",
    "            # print(\"down\")\n",
    "            y += 1\n",
    "        # one step down and to the left\n",
    "        elif grid.get(x-1, y+1) == '.':\n",
    "            # print(\"down + left\")\n",
    "            y += 1\n",
    "            x -= 1\n",
    "        # one step down and to the right\n",
    "        elif grid.get(x+1, y+1) == '.':\n",
    "            # print(\"down + right\")\n",
    "            y += 1\n",
    "            x += 1\n",
    "        else: # can't move any longer\n",
    "            # print(\"rest\")\n",
    "            found_rest_position = True\n",
    "            grid.set(x, y, '.', 'o')\n",
    "            break\n",
    "\n",
    "    return (x, y)"
   ]
  },
  {
   "cell_type": "code",
   "execution_count": 9,
   "metadata": {},
   "outputs": [
    {
     "name": "stdout",
     "output_type": "stream",
     "text": [
      "............\n",
      "............\n",
      "............\n",
      "............\n",
      "............\n",
      ".....#...##.\n",
      ".....#...#..\n",
      "...###...#..\n",
      ".........#..\n",
      ".........#..\n",
      ".#########..\n",
      "............\n",
      "############\n"
     ]
    }
   ],
   "source": [
    "fileContent = aoc.common.process_input.read_file(\"input\\\\year2022\\\\day14\\\\example.txt\")        \n",
    "input_list = aoc.common.process_input.to_function_list(fileContent, str)\n",
    "\n",
    "rocks_dict = aoc.year2022.day14.parse_input(input_list)\n",
    "min_x, max_x, min_y, max_y = aoc.year2022.day14.find_min_and_max(rocks_dict)\n",
    "grid = Map2d(min_x-1, max_x+1, min_y-1, max_y+1, '.')\n",
    "aoc.year2022.day14.fill_grid_with_rocks(grid, rocks_dict)\n",
    "\n",
    "# set extra line\n",
    "grid.set(max_x, max_y+2, '#', '#')\n",
    "grid.print_asc()"
   ]
  },
  {
   "cell_type": "code",
   "execution_count": 10,
   "metadata": {},
   "outputs": [
    {
     "name": "stdout",
     "output_type": "stream",
     "text": [
      ".......................\n",
      "...........o...........\n",
      "..........ooo..........\n",
      ".........ooooo.........\n",
      "........ooooooo........\n",
      ".......oo#ooo##o.......\n",
      "......ooo#ooo#ooo......\n",
      ".....oo###ooo#oooo.....\n",
      "....oooo.oooo#ooooo....\n",
      "...oooooooooo#oooooo...\n",
      "..ooo#########ooooooo..\n",
      ".ooooo.......ooooooooo.\n",
      "#######################\n",
      "93\n"
     ]
    }
   ],
   "source": [
    "sand_source = (500,0)\n",
    "count_sand = 0\n",
    "\n",
    "while True:\n",
    "    last_sand_position = move_grain_of_sand_part2(grid, sand_source)\n",
    "    count_sand += 1\n",
    "    if last_sand_position == sand_source:\n",
    "        break\n",
    "\n",
    "grid.print_asc()\n",
    "print(count_sand)\n"
   ]
  }
 ],
 "metadata": {
  "kernelspec": {
   "display_name": "Python 3.10.5 64-bit",
   "language": "python",
   "name": "python3"
  },
  "language_info": {
   "codemirror_mode": {
    "name": "ipython",
    "version": 3
   },
   "file_extension": ".py",
   "mimetype": "text/x-python",
   "name": "python",
   "nbconvert_exporter": "python",
   "pygments_lexer": "ipython3",
   "version": "3.10.5"
  },
  "orig_nbformat": 4,
  "vscode": {
   "interpreter": {
    "hash": "607db476e417971f05b607c2dd14e77ee8262c2c4c20dea422522c60605a222a"
   }
  }
 },
 "nbformat": 4,
 "nbformat_minor": 2
}
