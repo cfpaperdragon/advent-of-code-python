{
 "cells": [
  {
   "cell_type": "code",
   "execution_count": 1,
   "metadata": {},
   "outputs": [],
   "source": [
    "import aoc.year2021.day23_move_grid\n"
   ]
  },
  {
   "cell_type": "code",
   "execution_count": 16,
   "metadata": {},
   "outputs": [],
   "source": [
    "import aoc.year2021.day23\n"
   ]
  },
  {
   "cell_type": "code",
   "execution_count": 3,
   "metadata": {},
   "outputs": [],
   "source": [
    "start_positions = []\n",
    "start_positions.append(('A2','B'))\n",
    "start_positions.append(('A1','A'))\n",
    "start_positions.append(('B2','C'))\n",
    "start_positions.append(('B1','D'))\n",
    "start_positions.append(('C2','B'))\n",
    "start_positions.append(('C1','C'))\n",
    "start_positions.append(('D2','D'))\n",
    "start_positions.append(('D1','A'))"
   ]
  },
  {
   "cell_type": "code",
   "execution_count": 17,
   "metadata": {},
   "outputs": [],
   "source": [
    "content_map, amphipods = aoc.year2021.day23.prepare_game(start_positions)\n"
   ]
  },
  {
   "cell_type": "code",
   "execution_count": 18,
   "metadata": {},
   "outputs": [
    {
     "name": "stdout",
     "output_type": "stream",
     "text": [
      "{'A': 'D1', 'B': 'C2', 'C': 'C1', 'D': 'D2'}\n"
     ]
    }
   ],
   "source": [
    "print(amphipods)"
   ]
  },
  {
   "cell_type": "code",
   "execution_count": null,
   "metadata": {},
   "outputs": [],
   "source": [
    "maps = build_map()\n",
    "    exit_maps = maps[0]\n",
    "    content_map = maps[1]\n",
    "    amphipods = {}\n",
    "    amphipods['A'] = []\n",
    "    amphipods['B'] = []\n",
    "    amphipods['C'] = []\n",
    "    amphipods['D'] = []\n",
    "\n",
    "    for sp in start_positions:\n",
    "        print(amphipods)\n",
    "        content_map[sp[0]] = sp[1]\n",
    "        amphipods[sp[1]] += [sp[0]]"
   ]
  }
 ],
 "metadata": {
  "kernelspec": {
   "display_name": "Python 3.10.0 64-bit",
   "language": "python",
   "name": "python3"
  },
  "language_info": {
   "codemirror_mode": {
    "name": "ipython",
    "version": 3
   },
   "file_extension": ".py",
   "mimetype": "text/x-python",
   "name": "python",
   "nbconvert_exporter": "python",
   "pygments_lexer": "ipython3",
   "version": "3.10.0"
  },
  "vscode": {
   "interpreter": {
    "hash": "26de051ba29f2982a8de78e945f0abaf191376122a1563185a90213a26c5da77"
   }
  }
 },
 "nbformat": 4,
 "nbformat_minor": 2
}
