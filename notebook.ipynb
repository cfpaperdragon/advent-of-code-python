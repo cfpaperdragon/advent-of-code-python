{
 "cells": [
  {
   "cell_type": "code",
   "execution_count": 2,
   "metadata": {},
   "outputs": [
    {
     "name": "stdout",
     "output_type": "stream",
     "text": [
      "Hello Jupyter Notebook\n"
     ]
    }
   ],
   "source": [
    "print('Hello Jupyter Notebook')"
   ]
  },
  {
   "cell_type": "code",
   "execution_count": 3,
   "metadata": {},
   "outputs": [],
   "source": [
    "import os"
   ]
  },
  {
   "cell_type": "code",
   "execution_count": 4,
   "metadata": {},
   "outputs": [
    {
     "data": {
      "text/plain": [
       "['.git',\n",
       " '.gitignore',\n",
       " '.pytest_cache',\n",
       " 'aoc',\n",
       " 'input',\n",
       " 'main.py',\n",
       " 'notebook.ipynb',\n",
       " 'README.md',\n",
       " 'tests']"
      ]
     },
     "execution_count": 4,
     "metadata": {},
     "output_type": "execute_result"
    }
   ],
   "source": [
    "os.listdir()"
   ]
  },
  {
   "cell_type": "code",
   "execution_count": 5,
   "metadata": {},
   "outputs": [],
   "source": [
    "import datetime"
   ]
  },
  {
   "cell_type": "code",
   "execution_count": 6,
   "metadata": {},
   "outputs": [
    {
     "name": "stdout",
     "output_type": "stream",
     "text": [
      "2022-11-11 17:48:00.624014\n"
     ]
    }
   ],
   "source": [
    "print(datetime.datetime.now())"
   ]
  },
  {
   "cell_type": "code",
   "execution_count": 7,
   "metadata": {},
   "outputs": [
    {
     "name": "stderr",
     "output_type": "stream",
     "text": [
      "'pwd' is not recognized as an internal or external command,\n",
      "operable program or batch file.\n"
     ]
    }
   ],
   "source": [
    "!pwd"
   ]
  },
  {
   "cell_type": "code",
   "execution_count": 8,
   "metadata": {},
   "outputs": [
    {
     "name": "stdout",
     "output_type": "stream",
     "text": [
      " Volume in drive C is OS\n",
      " Volume Serial Number is E4BD-2AED\n",
      "\n",
      " Directory of c:\\git\\advent-of-code-python\n",
      "\n",
      "11/11/2022  05:44 PM    <DIR>          .\n",
      "11/11/2022  05:44 PM    <DIR>          ..\n",
      "11/04/2022  02:23 PM             1,928 .gitignore\n",
      "11/04/2022  03:23 PM    <DIR>          .pytest_cache\n",
      "11/07/2022  09:21 AM    <DIR>          aoc\n",
      "11/04/2022  02:23 PM    <DIR>          input\n",
      "11/07/2022  09:21 AM               996 main.py\n",
      "11/11/2022  05:44 PM               256 notebook.ipynb\n",
      "11/04/2022  02:23 PM                66 README.md\n",
      "11/04/2022  02:23 PM    <DIR>          tests\n",
      "               4 File(s)          3,246 bytes\n",
      "               6 Dir(s)   9,416,482,816 bytes free\n"
     ]
    }
   ],
   "source": [
    "!dir"
   ]
  },
  {
   "cell_type": "code",
   "execution_count": 9,
   "metadata": {},
   "outputs": [
    {
     "name": "stdout",
     "output_type": "stream",
     "text": [
      "============================= test session starts =============================\n",
      "platform win32 -- Python 3.10.5, pytest-7.1.3, pluggy-1.0.0\n",
      "rootdir: c:\\git\\advent-of-code-python\n",
      "plugins: anyio-3.6.2\n",
      "collected 16 items\n",
      "\n",
      "tests\\year2021\\cuboid_test.py ........                                   [ 50%]\n",
      "tests\\year2021\\day01_test.py ..                                          [ 62%]\n",
      "tests\\year2021\\day22_test.py ...s                                        [ 87%]\n",
      "tests\\year2021\\day23_map_test.py .                                       [ 93%]\n",
      "tests\\year2021\\day23_test.py F                                           [100%]\n",
      "\n",
      "================================== FAILURES ===================================\n",
      "________________________ test_calculate_part1_example1 ________________________\n",
      "\n",
      "    def test_calculate_part1_example1():\n",
      "        file_content = aoc.common.process_input.read_file(\"input\\\\year2021\\\\day23\\\\example.txt\")\n",
      "        input_list = []\n",
      "        result = aoc.year2021.day23.calculate_part1(input_list)\n",
      ">       assert result == 39\n",
      "E       assert 0 == 39\n",
      "\n",
      "tests\\year2021\\day23_test.py:12: AssertionError\n",
      "=========================== short test summary info ===========================\n",
      "FAILED tests/year2021/day23_test.py::test_calculate_part1_example1 - assert 0...\n",
      "=================== 1 failed, 14 passed, 1 skipped in 0.14s ===================\n"
     ]
    }
   ],
   "source": [
    "!py -m pytest"
   ]
  },
  {
   "cell_type": "code",
   "execution_count": null,
   "metadata": {},
   "outputs": [],
   "source": []
  }
 ],
 "metadata": {
  "kernelspec": {
   "display_name": "Python 3.10.5 64-bit",
   "language": "python",
   "name": "python3"
  },
  "language_info": {
   "codemirror_mode": {
    "name": "ipython",
    "version": 3
   },
   "file_extension": ".py",
   "mimetype": "text/x-python",
   "name": "python",
   "nbconvert_exporter": "python",
   "pygments_lexer": "ipython3",
   "version": "3.10.5"
  },
  "orig_nbformat": 4,
  "vscode": {
   "interpreter": {
    "hash": "607db476e417971f05b607c2dd14e77ee8262c2c4c20dea422522c60605a222a"
   }
  }
 },
 "nbformat": 4,
 "nbformat_minor": 2
}
