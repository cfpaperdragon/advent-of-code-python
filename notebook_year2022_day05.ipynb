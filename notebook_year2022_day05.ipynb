{
 "cells": [
  {
   "cell_type": "code",
   "execution_count": 1,
   "metadata": {},
   "outputs": [],
   "source": [
    "import aoc.common.process_input\n",
    "import aoc.year2022.day05"
   ]
  },
  {
   "cell_type": "code",
   "execution_count": 2,
   "metadata": {},
   "outputs": [],
   "source": [
    "fileContent = aoc.common.process_input.read_file(\"input\\\\year2022\\\\day05\\\\example.txt\")"
   ]
  },
  {
   "cell_type": "code",
   "execution_count": 3,
   "metadata": {},
   "outputs": [],
   "source": [
    "input_content = aoc.common.process_input.to_str_list_no_strip(fileContent)"
   ]
  },
  {
   "cell_type": "code",
   "execution_count": 4,
   "metadata": {},
   "outputs": [
    {
     "name": "stdout",
     "output_type": "stream",
     "text": [
      "['1', '2', '3']\n"
     ]
    }
   ],
   "source": [
    "temp_stack = []\n",
    "for input in input_content:\n",
    "    if len(input.strip()) == 0:\n",
    "        break\n",
    "    else:\n",
    "        temp_stack.insert(0, input)\n",
    "str_num_stacks = temp_stack.pop(0)\n",
    "arr_num_stacks = str_num_stacks.strip().split('   ')\n",
    "num_stacks = len(arr_num_stacks)\n",
    "print(arr_num_stacks)"
   ]
  },
  {
   "cell_type": "code",
   "execution_count": 5,
   "metadata": {},
   "outputs": [
    {
     "name": "stdout",
     "output_type": "stream",
     "text": [
      "{1: [], 2: [], 3: []}\n"
     ]
    }
   ],
   "source": [
    "stack_dict = {}\n",
    "for i in range(1, num_stacks+1):\n",
    "    stack_dict[i] = []\n",
    "print(stack_dict)"
   ]
  },
  {
   "cell_type": "code",
   "execution_count": 6,
   "metadata": {},
   "outputs": [
    {
     "name": "stdout",
     "output_type": "stream",
     "text": [
      "{1: ['Z', 'N'], 2: ['M', 'C', 'D'], 3: ['P']}\n"
     ]
    }
   ],
   "source": [
    "while len(temp_stack)>0:\n",
    "    stack_line = temp_stack.pop(0)\n",
    "    for i in range(1, num_stacks+1):\n",
    "        index = 1 + 4*(i-1)\n",
    "        container = stack_line[index]\n",
    "        if container != ' ':\n",
    "            stack_dict[i].append(container)\n",
    "print(stack_dict)"
   ]
  },
  {
   "cell_type": "code",
   "execution_count": 10,
   "metadata": {},
   "outputs": [
    {
     "name": "stdout",
     "output_type": "stream",
     "text": [
      "(1, 2, 1)\n"
     ]
    }
   ],
   "source": [
    "# need the moves\n",
    "# move 1 from 2 to 1\n",
    "instruction = \"move 1 from 2 to 1\"\n",
    "parts = instruction.strip().split(' ')\n",
    "processed_instruction = (int(parts[1]), int(parts[3]), int(parts[5]))\n",
    "print(processed_instruction)\n",
    "\n",
    "def process_instruction(instruction):\n",
    "    parts = instruction.strip().split(' ')\n",
    "    processed_instruction = (int(parts[1]), int(parts[3]), int(parts[5]))\n",
    "    return instruction"
   ]
  },
  {
   "cell_type": "code",
   "execution_count": 15,
   "metadata": {},
   "outputs": [],
   "source": [
    "def move_one_container(stacks, origin, target):\n",
    "    # get last position from origin stack\n",
    "    container = stacks[origin].pop(len(stacks[origin])-1)\n",
    "    stacks[target].append(container)\n",
    "    return stacks\n"
   ]
  },
  {
   "cell_type": "code",
   "execution_count": 16,
   "metadata": {},
   "outputs": [
    {
     "name": "stdout",
     "output_type": "stream",
     "text": [
      "{1: ['Z', 'N'], 2: ['M', 'C', 'D'], 3: ['P']}\n",
      "{1: ['Z'], 2: ['M', 'C', 'D', 'N'], 3: ['P']}\n"
     ]
    }
   ],
   "source": [
    "# move 1 from 1 to 2\n",
    "print(stack_dict)\n",
    "stack_dict = move_one_container(stack_dict, 1, 2)\n",
    "print(stack_dict)"
   ]
  },
  {
   "cell_type": "code",
   "execution_count": null,
   "metadata": {},
   "outputs": [],
   "source": [
    "for i in range(5, len(input_content)):\n",
    "    instruction = process_instruction(input_content[i])\n",
    "    \n"
   ]
  }
 ],
 "metadata": {
  "kernelspec": {
   "display_name": "Python 3.10.5 64-bit",
   "language": "python",
   "name": "python3"
  },
  "language_info": {
   "codemirror_mode": {
    "name": "ipython",
    "version": 3
   },
   "file_extension": ".py",
   "mimetype": "text/x-python",
   "name": "python",
   "nbconvert_exporter": "python",
   "pygments_lexer": "ipython3",
   "version": "3.10.5"
  },
  "orig_nbformat": 4,
  "vscode": {
   "interpreter": {
    "hash": "607db476e417971f05b607c2dd14e77ee8262c2c4c20dea422522c60605a222a"
   }
  }
 },
 "nbformat": 4,
 "nbformat_minor": 2
}
