{
 "cells": [
  {
   "cell_type": "code",
   "execution_count": 47,
   "metadata": {},
   "outputs": [],
   "source": [
    "import aoc.common.process_input\n",
    "import aoc.year2022.day10"
   ]
  },
  {
   "cell_type": "code",
   "execution_count": 48,
   "metadata": {},
   "outputs": [],
   "source": [
    "fileContent = aoc.common.process_input.read_file(\"input\\\\year2022\\\\day10\\\\input.txt\")        \n",
    "input_content = aoc.common.process_input.to_function_list(fileContent, str)\n",
    "\n",
    "# print(input_content)"
   ]
  },
  {
   "cell_type": "code",
   "execution_count": 49,
   "metadata": {},
   "outputs": [],
   "source": [
    "inst = {\n",
    "    'noop': 1,\n",
    "    'addx': 2\n",
    "}\n",
    "\n",
    "reg = {\n",
    "    'X': 1\n",
    "}\n",
    "\n",
    "cycle = 0\n",
    "# save = [20, 60, 100, 140, 180, 220]\n",
    "save_value = {}\n",
    "\n",
    "current_instruction = 'noop'\n",
    "num_cycles = 0\n",
    "\n",
    "while len(input_content) > 0 or num_cycles > 0:\n",
    "    # if cycle > 180:\n",
    "    #    print(cycle, current_instruction, num_cycles, reg['X'])\n",
    "    # if previous operation ended, get a new one\n",
    "    if num_cycles == 0:\n",
    "        current_instruction = input_content.pop(0) \n",
    "    \n",
    "        if 'noop' in current_instruction:\n",
    "            # does nothing\n",
    "            num_cycles = inst['noop']\n",
    "        elif 'addx' in current_instruction:\n",
    "            num_cycles = inst['addx']\n",
    "        else: \n",
    "            raise Exception('Invalid instruction')\n",
    "\n",
    "    cycle += 1\n",
    "    num_cycles -= 1\n",
    "\n",
    "    # save all values\n",
    "    save_value[cycle] = reg['X']\n",
    "\n",
    "    # at the end of the cycle, do the operation\n",
    "    if num_cycles == 0:\n",
    "        if 'addx' in current_instruction:\n",
    "            parts = current_instruction.split(' ')\n",
    "            add_value = int(parts[1])\n",
    "            reg['X'] += add_value\n",
    "\n",
    "    \n"
   ]
  },
  {
   "cell_type": "code",
   "execution_count": 50,
   "metadata": {},
   "outputs": [
    {
     "name": "stdout",
     "output_type": "stream",
     "text": [
      "###..####.#..#.#....###...##..#..#..##..\n",
      "#..#....#.#..#.#....#..#.#..#.#..#.#..#.\n",
      "#..#...#..#..#.#....###..#..#.#..#.#..#.\n",
      "###...#...#..#.#....#..#.####.#..#.####.\n",
      "#....#....#..#.#....#..#.#..#.#..#.#..#.\n",
      "#....####..##..####.###..#..#..##..#..#.\n"
     ]
    }
   ],
   "source": [
    "line_size = 40\n",
    "cycle_counter = 1\n",
    "\n",
    "while(cycle_counter <= cycle):\n",
    "    line_counter = 0\n",
    "    line_string = \"\" \n",
    "    while(line_counter < line_size):\n",
    "        if save_value[cycle_counter]-1 <= line_counter and save_value[cycle_counter]+1 >= line_counter:\n",
    "            line_string += '#'\n",
    "        else:\n",
    "            line_string += '.'\n",
    "        line_counter += 1\n",
    "        cycle_counter += 1\n",
    "    print(line_string)\n",
    "\n"
   ]
  }
 ],
 "metadata": {
  "kernelspec": {
   "display_name": "Python 3.10.0 64-bit",
   "language": "python",
   "name": "python3"
  },
  "language_info": {
   "codemirror_mode": {
    "name": "ipython",
    "version": 3
   },
   "file_extension": ".py",
   "mimetype": "text/x-python",
   "name": "python",
   "nbconvert_exporter": "python",
   "pygments_lexer": "ipython3",
   "version": "3.10.0"
  },
  "orig_nbformat": 4,
  "vscode": {
   "interpreter": {
    "hash": "26de051ba29f2982a8de78e945f0abaf191376122a1563185a90213a26c5da77"
   }
  }
 },
 "nbformat": 4,
 "nbformat_minor": 2
}
