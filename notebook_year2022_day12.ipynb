{
 "cells": [
  {
   "cell_type": "code",
   "execution_count": 4,
   "metadata": {},
   "outputs": [],
   "source": [
    "import aoc.common.process_input\n",
    "import aoc.year2022.day12\n",
    "from aoc.year2022.map import Map2d as Map2d\n",
    "\n",
    "def load_map(input_list, function_value):\n",
    "    x_size = len(input_list[0])\n",
    "    y_size = len(input_list)\n",
    "    map = Map2d(0, x_size-1, 0, y_size-1, 0)\n",
    "    for y in range(y_size):\n",
    "        input = input_list[y]\n",
    "        for x in range(x_size):\n",
    "            map.set(x, y, 0, function_value(input[x]))\n",
    "    return map\n",
    "\n",
    "def get_adjacents(point, max_x, max_y):\n",
    "    adjacents = []\n",
    "    x = point[0]\n",
    "    y = point[1]\n",
    "    # left\n",
    "    if x != 0:\n",
    "        adjacents.append((x-1, y))\n",
    "    # right\n",
    "    if x != max_x:\n",
    "        adjacents.append((x+1, y))\n",
    "    # up\n",
    "    if y != 0:\n",
    "        adjacents.append((x, y-1))\n",
    "    # down\n",
    "    if y != max_y:\n",
    "        adjacents.append((x, y+1))\n",
    "    return adjacents        "
   ]
  },
  {
   "cell_type": "code",
   "execution_count": 5,
   "metadata": {},
   "outputs": [
    {
     "name": "stdout",
     "output_type": "stream",
     "text": [
      "Sabqponm\n",
      "abcryxxl\n",
      "accszExk\n",
      "acctuvwj\n",
      "abdefghi\n"
     ]
    }
   ],
   "source": [
    "fileContent = aoc.common.process_input.read_file(\"input\\\\year2022\\\\day12\\\\example.txt\")        \n",
    "input_content = aoc.common.process_input.to_function_list(fileContent, str)\n",
    "mountain_map = load_map(input_content, str)\n",
    "mountain_map.print_asc()"
   ]
  },
  {
   "cell_type": "code",
   "execution_count": 6,
   "metadata": {},
   "outputs": [
    {
     "name": "stdout",
     "output_type": "stream",
     "text": [
      "(0, 0)\n",
      "(5, 2)\n",
      "0121918171615\n",
      "1232029282714\n",
      "2342130312613\n",
      "3452223242512\n",
      "4567891011\n",
      "31\n"
     ]
    }
   ],
   "source": [
    "size_x = len(input_content[0])\n",
    "size_y = len(input_content)\n",
    "\n",
    "start = mountain_map.find_in_map(lambda a: a == 'S')\n",
    "print(start)\n",
    "end = mountain_map.find_in_map(lambda a: a == 'E')\n",
    "print(end)\n",
    "\n",
    "mountain_map.set(start[0],start[1], '', 'a')\n",
    "mountain_map.set(end[0],end[1], '', 'z')\n",
    "\n",
    "\n",
    "count_steps = Map2d(0, size_x -1, 0, size_y -1, -1)\n",
    "count_steps.set(start[0], start[1], -1, 0)\n",
    "\n",
    "nodes = [start]\n",
    "while len(nodes) > 0:\n",
    "    # print(nodes)\n",
    "    current = nodes.pop(0)\n",
    "       \n",
    "    steps_value = count_steps.get(current[0], current[1])\n",
    "    letter = mountain_map.get(current[0], current[1])\n",
    "\n",
    "    # check adjacents\n",
    "    adjacents = get_adjacents(current, size_x -1, size_y -1)\n",
    "    for adj in adjacents:\n",
    "        adj_letter = mountain_map.get(adj[0], adj[1])\n",
    "        # print(adj, adj_letter)\n",
    "        if ord(adj_letter) - ord(letter) not in [0, 1]: # not same letter or one above\n",
    "            continue\n",
    "\n",
    "        adj_value = count_steps.get(adj[0], adj[1])\n",
    "        # print(adj, adj_value)\n",
    "        if adj_value == -1:\n",
    "            # not visited yet\n",
    "            nodes.append(adj)\n",
    "            count_steps.set(adj[0], adj[1], -1, 1 + steps_value)\n",
    "\n",
    "        elif adj_value > steps_value + 1:\n",
    "            # visited but from another path\n",
    "            # visit again?\n",
    "            nodes.append(adj)\n",
    "            count_steps.set(adj[0], adj[1], -1, 1 + steps_value)\n",
    "\n",
    "        # else: \n",
    "            # visited from another path but shorter\n",
    "            # do nothing\n",
    "\n",
    "count_steps.print_asc()\n",
    "print(count_steps.get(end[0],end[1]))"
   ]
  }
 ],
 "metadata": {
  "kernelspec": {
   "display_name": "Python 3.10.5 64-bit",
   "language": "python",
   "name": "python3"
  },
  "language_info": {
   "codemirror_mode": {
    "name": "ipython",
    "version": 3
   },
   "file_extension": ".py",
   "mimetype": "text/x-python",
   "name": "python",
   "nbconvert_exporter": "python",
   "pygments_lexer": "ipython3",
   "version": "3.10.5"
  },
  "orig_nbformat": 4,
  "vscode": {
   "interpreter": {
    "hash": "607db476e417971f05b607c2dd14e77ee8262c2c4c20dea422522c60605a222a"
   }
  }
 },
 "nbformat": 4,
 "nbformat_minor": 2
}
