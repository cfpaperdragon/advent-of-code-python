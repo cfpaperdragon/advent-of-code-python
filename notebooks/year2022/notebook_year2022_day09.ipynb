{
 "cells": [
  {
   "cell_type": "code",
   "execution_count": 134,
   "metadata": {},
   "outputs": [],
   "source": [
    "import aoc.common.process_input\n",
    "import aoc.year2022.day09\n",
    "from aoc.year2021.cuboid import Cuboid"
   ]
  },
  {
   "cell_type": "code",
   "execution_count": 135,
   "metadata": {},
   "outputs": [],
   "source": [
    "def move_all(map, head_position, tail_position, direction, amount):\n",
    "    while amount > 0:\n",
    "        amount -= 1\n",
    "        head_position, tail_position = move_one(map, head_position, tail_position, direction)\n",
    "    return head_position, tail_position\n",
    "\n",
    "def move_head_one(head, direction):\n",
    "    if direction == 'R':\n",
    "        # x +1\n",
    "        new_nead = (head[0]+1, head[1])\n",
    "    elif direction == 'L':\n",
    "        # x -1\n",
    "        new_nead = (head[0]-1, head[1])\n",
    "    elif direction == 'U':\n",
    "        # y +1\n",
    "        new_nead = (head[0], head[1]+1)\n",
    "    elif direction == 'D':\n",
    "        # y -1\n",
    "        new_nead = (head[0], head[1]-1)\n",
    "    else:\n",
    "        raise Exception(\"invalid direction: \" + direction)\n",
    "    return new_nead\n",
    "\n",
    "def move_tail_if_needed(head, tail):\n",
    "    new_tail_x = tail[0]\n",
    "    new_tail_y = tail[1]\n",
    "\n",
    "    # same x and same y\n",
    "    if head[0] == tail[0] and head[1] == tail[1]:\n",
    "        return tail\n",
    "\n",
    "    # in same x\n",
    "    elif head[0] == tail[0]:\n",
    "        if head[1] > tail[1]:\n",
    "            if head[1] - tail[1] > 1:\n",
    "                new_tail_y += 1\n",
    "        elif head[1] < tail[1]:\n",
    "            if tail[1] - head[1] > 1:\n",
    "                new_tail_y -= 1\n",
    "    # in same y\n",
    "    elif head[1] == tail[1]:\n",
    "        if head[0] > tail[0]:\n",
    "            if head[0] - tail[0] > 1:\n",
    "                new_tail_x += 1\n",
    "        elif head[0] < tail[0]:\n",
    "            if tail[0] - head[0] > 1:\n",
    "                new_tail_x -= 1 \n",
    "    \n",
    "    # not in same x nor y\n",
    "    elif head[0] != tail[0] and head[1] != tail[1]:\n",
    "        # print(head, tail)\n",
    "        # but are they adjacent?\n",
    "        # if head = (0,0)\n",
    "        # tail is adjacent/diagonal if (1,1), (1,-1), (-1,1), (-1,-1)\n",
    "        if head[0] > tail[0] and head[1] > tail[1]:\n",
    "            # print(\"zone 1\")\n",
    "            if head[0] - tail[0] > 1 or head[1] - tail[1] > 1:\n",
    "                # print(\"zone 1 - not adjacent\")\n",
    "                new_tail_x += 1\n",
    "                new_tail_y += 1\n",
    "        elif head[0] > tail[0] and head[1] < tail[1]:\n",
    "            # print(\"zone 2\")\n",
    "            if head[0] - tail[0] > 1 or tail[1] - head[1] > 1:\n",
    "                # print(\"zone 2 - not adjacent\")\n",
    "                new_tail_x += 1\n",
    "                new_tail_y -= 1\n",
    "        elif head[0] < tail[0] and head[1] < tail[1]:\n",
    "            # print(\"zone 3\")\n",
    "            if tail[0] - head[0] > 1 or tail[1] - head[1] > 1:\n",
    "                # print(\"zone 3 - not adjacent\")\n",
    "                new_tail_x -= 1\n",
    "                new_tail_y -= 1\n",
    "        elif head[0] < tail[0] and head[1] > tail[1]:\n",
    "            # print(\"zone 4\")\n",
    "            if tail[0] - head[0] > 1 or head[1] - tail[1] > 1:\n",
    "                # print(\"zone 4 - not adjacent\")\n",
    "                new_tail_x -= 1\n",
    "                new_tail_y += 1    \n",
    "    return (new_tail_x, new_tail_y)                                  \n",
    "\n",
    "def move_one(map, head, tail, direction):\n",
    "    # the head always moves\n",
    "    new_head = move_head_one(head, direction)\n",
    "    # the tail may move\n",
    "    new_tail = move_tail_if_needed(new_head, tail)\n",
    "    # print(\"head\", head, \"new_head\", new_head, \"tail\", tail, \"new_tail\", new_tail)\n",
    "    if tail != new_tail:\n",
    "        map.set_and_expand(new_tail[0], new_tail[1], 0, '.', '#')        \n",
    "    return new_head, new_tail\n",
    "\n",
    "\n",
    "def print_map(map):\n",
    "    all_keys = map.get_keys('all', True)\n",
    "    x_keys = all_keys[0]\n",
    "    y_keys = all_keys[1]\n",
    "    y_keys.sort(reverse=True)\n",
    "    for y in y_keys:\n",
    "        string = \"y=\" + str(y) + \" \"\n",
    "        for x in x_keys:\n",
    "            string += map.get(x, y, 0)\n",
    "        print(string)\n",
    "\n",
    "def map_count_visited(map):\n",
    "    all_keys = map.get_keys('all', False)\n",
    "    x_keys = all_keys[0]\n",
    "    y_keys = all_keys[1]\n",
    "    count = 0\n",
    "    for y in y_keys:\n",
    "        for x in x_keys:\n",
    "            if map.get(x, y, 0) == '#':\n",
    "                count += 1\n",
    "    return count            \n",
    "        "
   ]
  },
  {
   "cell_type": "code",
   "execution_count": 136,
   "metadata": {},
   "outputs": [],
   "source": [
    "fileContent = aoc.common.process_input.read_file(\"input\\\\year2022\\\\day09\\\\example.txt\")        \n",
    "input_content = aoc.common.process_input.to_function_list(fileContent, str)"
   ]
  },
  {
   "cell_type": "code",
   "execution_count": 137,
   "metadata": {},
   "outputs": [
    {
     "name": "stdout",
     "output_type": "stream",
     "text": [
      "y=4 ......\n",
      "y=3 ......\n",
      "y=2 ......\n",
      "y=1 ......\n",
      "y=0 ......\n"
     ]
    }
   ],
   "source": [
    "map = Cuboid(0, 5, 0, 4, 0, 0, \".\")\n",
    "print_map(map)"
   ]
  },
  {
   "cell_type": "code",
   "execution_count": 138,
   "metadata": {},
   "outputs": [],
   "source": [
    "start = (0, 0)\n",
    "tail = start\n",
    "head = start"
   ]
  },
  {
   "cell_type": "code",
   "execution_count": 139,
   "metadata": {},
   "outputs": [
    {
     "name": "stdout",
     "output_type": "stream",
     "text": [
      "y=4 ..##..\n",
      "y=3 ...##.\n",
      "y=2 .####.\n",
      "y=1 ....#.\n",
      "y=0 .###..\n",
      "13\n"
     ]
    }
   ],
   "source": [
    "for input in input_content:\n",
    "    # parse input\n",
    "    parts = input.split(' ')\n",
    "    direction = parts[0]\n",
    "    amount = int(parts[1])\n",
    "    # print(direction, amount)\n",
    "    head, tail = move_all(map, head, tail, direction, amount)\n",
    "print_map(map)\n",
    "map.set_simple(0, 0, 0, \"#\") # make sure start position is marked\n",
    "\n",
    "result = map_count_visited(map)\n",
    "print(result)"
   ]
  },
  {
   "cell_type": "code",
   "execution_count": null,
   "metadata": {},
   "outputs": [],
   "source": []
  }
 ],
 "metadata": {
  "kernelspec": {
   "display_name": "Python 3",
   "language": "python",
   "name": "python3"
  },
  "language_info": {
   "codemirror_mode": {
    "name": "ipython",
    "version": 3
   },
   "file_extension": ".py",
   "mimetype": "text/x-python",
   "name": "python",
   "nbconvert_exporter": "python",
   "pygments_lexer": "ipython3",
   "version": "3.11.0"
  },
  "orig_nbformat": 4,
  "vscode": {
   "interpreter": {
    "hash": "70f92ed5a2f7a930226c52dd63510ead1dc258ee26223dd435d177fbb2bbc182"
   }
  }
 },
 "nbformat": 4,
 "nbformat_minor": 2
}
