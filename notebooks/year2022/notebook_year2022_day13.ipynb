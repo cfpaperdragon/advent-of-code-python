{
 "cells": [
  {
   "cell_type": "code",
   "execution_count": 9,
   "metadata": {},
   "outputs": [],
   "source": [
    "import functools\n",
    "\n",
    "import aoc.common.process_input\n",
    "import aoc.year2022.day13"
   ]
  },
  {
   "cell_type": "code",
   "execution_count": 10,
   "metadata": {},
   "outputs": [],
   "source": [
    "fileContent = aoc.common.process_input.read_file(\"input\\\\year2022\\\\day13\\\\example.txt\")        \n",
    "input_list = aoc.common.process_input.to_function_list(fileContent, str)"
   ]
  },
  {
   "cell_type": "code",
   "execution_count": 11,
   "metadata": {},
   "outputs": [
    {
     "name": "stdout",
     "output_type": "stream",
     "text": [
      "left [1, 1, 3, 1, 1] right [1, 1, 5, 1, 1] value 1\n",
      "left [[1], [2, 3, 4]] right [[1], 4] value 1\n",
      "left [9] right [[8, 7, 6]] value -1\n",
      "left [[4, 4], 4, 4] right [[4, 4], 4, 4, 4] value 1\n",
      "left [7, 7, 7, 7] right [7, 7, 7] value -1\n",
      "left [] right [3] value 1\n",
      "left [[[]]] right [[]] value -1\n",
      "left [1, [2, [3, [4, [5, 6, 7]]]], 8, 9] right [1, [2, [3, [4, [5, 6, 0]]]], 8, 9] value -1\n"
     ]
    }
   ],
   "source": [
    "def compare_pair(left, right):\n",
    "    \"\"\"\n",
    "    return 0 if the same\n",
    "    return 1 if left is smaller\n",
    "    return -1 if right is smaller\n",
    "    \"\"\"\n",
    "    if isinstance(left, list) and isinstance(right, list):\n",
    "        for i in range(max(len(left), len(right))):\n",
    "            if i > len(left)-1:\n",
    "                # no more lefts\n",
    "                value = 1\n",
    "            elif i > len(right)-1:\n",
    "                value = -1\n",
    "            else:\n",
    "                value = compare_pair(left[i], right[i])\n",
    "            \n",
    "            # if reached decision, end\n",
    "            if value != 0:\n",
    "                return value\n",
    "    elif isinstance(left, int) and isinstance(right, int):\n",
    "        if left < right:\n",
    "            return 1\n",
    "        elif left == right:\n",
    "            return 0\n",
    "        else:\n",
    "            return -1\n",
    "\n",
    "    # one is a list and the other is a int\n",
    "    elif isinstance(left, int):\n",
    "        left = [left]\n",
    "        value = compare_pair(left, right)\n",
    "\n",
    "    elif isinstance(right, int):\n",
    "        right = [right]\n",
    "        value = compare_pair(left, right)\n",
    "\n",
    "    return value\n",
    "\n",
    "# [1, 1, 3, 1, 1] [1, 1, 5, 1, 1]\n",
    "left = [1, 1, 3, 1, 1]\n",
    "right = [1, 1, 5, 1, 1]\n",
    "value = compare_pair(left, right)\n",
    "print(\"left\", left, \"right\", right, \"value\", value)\n",
    "# [[1], [2, 3, 4]] [[1], 4]\n",
    "left = [[1], [2, 3, 4]]\n",
    "right = [[1], 4]\n",
    "value = compare_pair(left, right)\n",
    "print(\"left\", left, \"right\", right, \"value\", value)\n",
    "# [9] [[8, 7, 6]]\n",
    "left = [9]\n",
    "right = [[8, 7, 6]]\n",
    "value = compare_pair(left, right)\n",
    "print(\"left\", left, \"right\", right, \"value\", value)\n",
    "# [[4, 4], 4, 4] [[4, 4], 4, 4, 4]\n",
    "left = [[4, 4], 4, 4]\n",
    "right = [[4, 4], 4, 4, 4]\n",
    "value = compare_pair(left, right)\n",
    "print(\"left\", left, \"right\", right, \"value\", value)\n",
    "# [7, 7, 7, 7] [7, 7, 7]\n",
    "left = [7, 7, 7, 7]\n",
    "right = [7, 7, 7]\n",
    "value = compare_pair(left, right)\n",
    "print(\"left\", left, \"right\", right, \"value\", value)\n",
    "# [] [3]\n",
    "left = []\n",
    "right = [3]\n",
    "value = compare_pair(left, right)\n",
    "print(\"left\", left, \"right\", right, \"value\", value)\n",
    "# [[[]]] [[]]\n",
    "left = [[[]]]\n",
    "right = [[]]\n",
    "value = compare_pair(left, right)\n",
    "print(\"left\", left, \"right\", right, \"value\", value)\n",
    "# [1, [2, [3, [4, [5, 6, 7]]]], 8, 9] [1, [2, [3, [4, [5, 6, 0]]]], 8, 9]\n",
    "left = [1, [2, [3, [4, [5, 6, 7]]]], 8, 9]\n",
    "right = [1, [2, [3, [4, [5, 6, 0]]]], 8, 9]\n",
    "value = compare_pair(left, right)\n",
    "print(\"left\", left, \"right\", right, \"value\", value)"
   ]
  },
  {
   "cell_type": "code",
   "execution_count": 12,
   "metadata": {},
   "outputs": [
    {
     "name": "stdout",
     "output_type": "stream",
     "text": [
      "[]\n",
      "[[]]\n",
      "[[[]]]\n",
      "[1, 1, 3, 1, 1]\n",
      "[1, 1, 5, 1, 1]\n",
      "[[1], [2, 3, 4]]\n",
      "[1, [2, [3, [4, [5, 6, 0]]]], 8, 9]\n",
      "[1, [2, [3, [4, [5, 6, 7]]]], 8, 9]\n",
      "[[1], 4]\n",
      "[[2]]\n",
      "[3]\n",
      "[[4, 4], 4, 4]\n",
      "[[4, 4], 4, 4, 4]\n",
      "[[6]]\n",
      "[7, 7, 7]\n",
      "[7, 7, 7, 7]\n",
      "[[8, 7, 6]]\n",
      "[9]\n",
      "140\n"
     ]
    }
   ],
   "source": [
    "message_list = []\n",
    "\n",
    "while len(input_list) > 0:\n",
    "    # get a pair\n",
    "    left_str = input_list.pop(0)\n",
    "    right_str = input_list.pop(0)\n",
    "    if len(input_list) > 0:\n",
    "        empty_str = input_list.pop(0)\n",
    "\n",
    "    message_list.append(eval(left_str))\n",
    "    message_list.append(eval(right_str))\n",
    "\n",
    "message_list.append([[2]])\n",
    "message_list.append([[6]])\n",
    "\n",
    "\n",
    "sorted_message_list = sorted(message_list, key=functools.cmp_to_key(compare_pair), reverse=True)\n",
    "for m in sorted_message_list:\n",
    "    print(m)\n",
    "\n",
    "position1 = sorted_message_list.index([[2]]) +1\n",
    "position2 = sorted_message_list.index([[6]]) +1\n",
    "print(position1*position2)"
   ]
  }
 ],
 "metadata": {
  "kernelspec": {
   "display_name": "Python 3.10.5 64-bit",
   "language": "python",
   "name": "python3"
  },
  "language_info": {
   "codemirror_mode": {
    "name": "ipython",
    "version": 3
   },
   "file_extension": ".py",
   "mimetype": "text/x-python",
   "name": "python",
   "nbconvert_exporter": "python",
   "pygments_lexer": "ipython3",
   "version": "3.10.5"
  },
  "orig_nbformat": 4,
  "vscode": {
   "interpreter": {
    "hash": "607db476e417971f05b607c2dd14e77ee8262c2c4c20dea422522c60605a222a"
   }
  }
 },
 "nbformat": 4,
 "nbformat_minor": 2
}
