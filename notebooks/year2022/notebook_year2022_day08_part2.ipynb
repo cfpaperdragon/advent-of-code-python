{
 "cells": [
  {
   "cell_type": "code",
   "execution_count": 17,
   "metadata": {},
   "outputs": [],
   "source": [
    "import aoc.common.process_input\n",
    "import aoc.year2022.day08\n",
    "from aoc.year2022.map import Map2d as Map2d\n",
    "\n",
    "def get_view_direction(direction, map, origin_x, origin_y, height):\n",
    "    if direction == 'left':\n",
    "        lambda_x = lambda a: a-1\n",
    "        lambda_y = lambda b: b\n",
    "    elif direction == 'right':\n",
    "        lambda_x = lambda a: a+1\n",
    "        lambda_y = lambda b: b\n",
    "    elif direction == 'up':\n",
    "        lambda_x = lambda a: a\n",
    "        lambda_y = lambda b: b-1\n",
    "    elif direction == 'down':\n",
    "        lambda_x = lambda a: a\n",
    "        lambda_y = lambda b: b+1\n",
    "    else:\n",
    "        raise Exception(\"invalid direction: \" + direction)\n",
    "\n",
    "    x = lambda_x(origin_x)\n",
    "    y = lambda_y(origin_y)\n",
    "\n",
    "    checked_value = map.get(x, y)\n",
    "    if checked_value >= height:\n",
    "        return 1\n",
    "    elif x == 0 or y == 0 or x == 4 or y == 4: # note: hardcoded max values\n",
    "        return 1\n",
    "    else:\n",
    "        return 1 + get_view_direction(direction, map, x, y, height)"
   ]
  },
  {
   "cell_type": "code",
   "execution_count": 18,
   "metadata": {},
   "outputs": [],
   "source": [
    "fileContent = aoc.common.process_input.read_file(\"input\\\\year2022\\\\day08\\\\example.txt\")        \n",
    "input_content = aoc.common.process_input.to_function_list(fileContent, str)\n",
    "tree_map = aoc.year2022.day08.load_map(input_content)"
   ]
  },
  {
   "cell_type": "code",
   "execution_count": 19,
   "metadata": {},
   "outputs": [
    {
     "name": "stdout",
     "output_type": "stream",
     "text": [
      "30373\n",
      "25512\n",
      "65332\n",
      "33549\n",
      "35390\n",
      "00000\n",
      "00000\n",
      "00000\n",
      "00000\n",
      "00000\n"
     ]
    }
   ],
   "source": [
    "size_x = 5\n",
    "size_y = 5\n",
    "scenic_score = Map2d(0, size_x-1, 0, size_y-1, 0)\n",
    "\n",
    "tree_map.print_asc()\n",
    "scenic_score.print_asc()"
   ]
  },
  {
   "cell_type": "code",
   "execution_count": 20,
   "metadata": {},
   "outputs": [
    {
     "ename": "NameError",
     "evalue": "name 'vis' is not defined",
     "output_type": "error",
     "traceback": [
      "\u001b[1;31m---------------------------------------------------------------------------\u001b[0m",
      "\u001b[1;31mNameError\u001b[0m                                 Traceback (most recent call last)",
      "Cell \u001b[1;32mIn [20], line 9\u001b[0m\n\u001b[0;32m      7\u001b[0m height \u001b[39m=\u001b[39m tree_map\u001b[39m.\u001b[39mget(x, y)\n\u001b[0;32m      8\u001b[0m left \u001b[39m=\u001b[39m get_view_direction(\u001b[39m\"\u001b[39m\u001b[39mleft\u001b[39m\u001b[39m\"\u001b[39m, tree_map, x, y, height)\n\u001b[1;32m----> 9\u001b[0m right \u001b[39m=\u001b[39m get_view_direction(\u001b[39m\"\u001b[39;49m\u001b[39mright\u001b[39;49m\u001b[39m\"\u001b[39;49m, tree_map, x, y, height)\n\u001b[0;32m     10\u001b[0m up \u001b[39m=\u001b[39m get_view_direction(\u001b[39m\"\u001b[39m\u001b[39mup\u001b[39m\u001b[39m\"\u001b[39m, tree_map, x, y, height)\n\u001b[0;32m     11\u001b[0m down \u001b[39m=\u001b[39m get_view_direction(\u001b[39m\"\u001b[39m\u001b[39mdown\u001b[39m\u001b[39m\"\u001b[39m, tree_map, x, y, height)\n",
      "Cell \u001b[1;32mIn [17], line 30\u001b[0m, in \u001b[0;36mget_view_direction\u001b[1;34m(direction, map, origin_x, origin_y, height)\u001b[0m\n\u001b[0;32m     28\u001b[0m     \u001b[39mreturn\u001b[39;00m \u001b[39m1\u001b[39m\n\u001b[0;32m     29\u001b[0m \u001b[39melse\u001b[39;00m:\n\u001b[1;32m---> 30\u001b[0m     \u001b[39mreturn\u001b[39;00m \u001b[39m1\u001b[39m \u001b[39m+\u001b[39m get_view_direction(direction, \u001b[39mmap\u001b[39m, vis, x, y, height)\n",
      "\u001b[1;31mNameError\u001b[0m: name 'vis' is not defined"
     ]
    }
   ],
   "source": [
    "x_size = len(input_content[0])\n",
    "y_size = len(input_content)\n",
    "\n",
    "for y in range(1, y_size - 1):\n",
    "    for x in range(1, x_size - 1):\n",
    "        # print(x,y)\n",
    "        height = tree_map.get(x, y)\n",
    "        left = get_view_direction(\"left\", tree_map, x, y, height)\n",
    "        right = get_view_direction(\"right\", tree_map, x, y, height)\n",
    "        up = get_view_direction(\"up\", tree_map, x, y, height)\n",
    "        down = get_view_direction(\"down\", tree_map, x, y, height)\n",
    "        \n",
    "        score = left*right*up*down\n",
    "        scenic_score.set(x, y, 0, score)\n",
    "\n",
    "scenic_score.print_asc()\n"
   ]
  },
  {
   "cell_type": "code",
   "execution_count": null,
   "metadata": {},
   "outputs": [],
   "source": []
  }
 ],
 "metadata": {
  "kernelspec": {
   "display_name": "Python 3.10.0 64-bit",
   "language": "python",
   "name": "python3"
  },
  "language_info": {
   "codemirror_mode": {
    "name": "ipython",
    "version": 3
   },
   "file_extension": ".py",
   "mimetype": "text/x-python",
   "name": "python",
   "nbconvert_exporter": "python",
   "pygments_lexer": "ipython3",
   "version": "3.10.0"
  },
  "orig_nbformat": 4,
  "vscode": {
   "interpreter": {
    "hash": "26de051ba29f2982a8de78e945f0abaf191376122a1563185a90213a26c5da77"
   }
  }
 },
 "nbformat": 4,
 "nbformat_minor": 2
}
