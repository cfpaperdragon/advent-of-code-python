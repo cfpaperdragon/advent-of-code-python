{
 "cells": [
  {
   "cell_type": "code",
   "execution_count": 42,
   "metadata": {},
   "outputs": [],
   "source": [
    "import aoc.common.process_input\n",
    "import aoc.year2022.day08\n",
    "from aoc.year2022.map import Map2d as Map2d\n",
    "\n",
    "def load_map(input_list):\n",
    "    x_size = len(input_list[0])\n",
    "    y_size = len(input_list)\n",
    "    map = Map2d(0, x_size-1, 0, y_size-1, 0)\n",
    "    for y in range(y_size):\n",
    "        input = input_list[y]\n",
    "        for x in range(x_size):\n",
    "            map.set(x, y, 0, int(input[x]))\n",
    "    return map\n",
    "    \n",
    "def check_any_direction(direction, map, vis, x, y, value):\n",
    "    if direction == 'left':\n",
    "        lambda_x = lambda a: a-1\n",
    "        lambda_y = lambda b: b\n",
    "    elif direction == 'right':\n",
    "        lambda_x = lambda a: a+1\n",
    "        lambda_y = lambda b: b\n",
    "    elif direction == 'up':\n",
    "        lambda_x = lambda a: a\n",
    "        lambda_y = lambda b: b-1\n",
    "    elif direction == 'down':\n",
    "        lambda_x = lambda a: a\n",
    "        lambda_y = lambda b: b+1\n",
    "    else:\n",
    "        raise Exception(\"invalid direction: \" + direction)\n",
    "\n",
    "    checked_value = map.get(lambda_x(x), lambda_y(y))\n",
    "    if checked_value < value:\n",
    "        if vis.get(lambda_x(x), lambda_y(y)) in ['e']:\n",
    "            return True\n",
    "        else:\n",
    "            return check_any_direction(direction, map, vis, lambda_x(x), lambda_y(y), value)\n",
    "    return False\n",
    "\n"
   ]
  },
  {
   "cell_type": "code",
   "execution_count": 43,
   "metadata": {},
   "outputs": [],
   "source": [
    "fileContent = aoc.common.process_input.read_file(\"input\\\\year2022\\\\day08\\\\example.txt\")        \n",
    "input_content = aoc.common.process_input.to_function_list(fileContent, str)\n"
   ]
  },
  {
   "cell_type": "code",
   "execution_count": 44,
   "metadata": {},
   "outputs": [
    {
     "name": "stdout",
     "output_type": "stream",
     "text": [
      "30373\n",
      "25512\n",
      "65332\n",
      "33549\n",
      "35390\n",
      ".....\n",
      ".....\n",
      ".....\n",
      ".....\n",
      ".....\n"
     ]
    }
   ],
   "source": [
    "map = load_map(input_content)\n",
    "visibility_map = Map2d(0, 4, 0, 4, '.')\n",
    "map.print_asc()\n",
    "visibility_map.print_asc()"
   ]
  },
  {
   "cell_type": "code",
   "execution_count": 45,
   "metadata": {},
   "outputs": [
    {
     "name": "stdout",
     "output_type": "stream",
     "text": [
      "eeeee\n",
      "e...e\n",
      "e...e\n",
      "e...e\n",
      "eeeee\n"
     ]
    }
   ],
   "source": [
    "x_size = 5\n",
    "y_size = 5\n",
    "\n",
    "for y in range(y_size):\n",
    "    for x in range(x_size):\n",
    "        if x in [0, x_size-1] or y in [0, y_size-1]:\n",
    "            visibility_map.set(x, y, '.', 'e')\n",
    "\n",
    "visibility_map.print_asc()"
   ]
  },
  {
   "cell_type": "code",
   "execution_count": 46,
   "metadata": {},
   "outputs": [
    {
     "name": "stdout",
     "output_type": "stream",
     "text": [
      "eeeee\n",
      "evvhe\n",
      "evhve\n",
      "ehvhe\n",
      "eeeee\n",
      "21\n"
     ]
    }
   ],
   "source": [
    "for y in range(1, y_size - 1):\n",
    "    for x in range(1, x_size - 1):\n",
    "        # print(x,y)\n",
    "        if visibility_map.get(x, y) in ['e','v','h']:\n",
    "            continue\n",
    "        else:\n",
    "            value = map.get(x, y)\n",
    "            if check_any_direction(\"left\", map, visibility_map, x, y, value):\n",
    "                # print(\"visible on left\")\n",
    "                visibility_map.set(x, y, '.', 'v')\n",
    "                continue\n",
    "            elif check_any_direction(\"right\", map, visibility_map, x, y, value):\n",
    "                # print(\"visible on right\")\n",
    "                visibility_map.set(x, y, '.', 'v')\n",
    "                continue\n",
    "            elif check_any_direction(\"up\", map, visibility_map, x, y, value):\n",
    "                # print(\"visible on up\")\n",
    "                visibility_map.set(x, y, '.', 'v')\n",
    "                continue\n",
    "            elif check_any_direction(\"down\", map, visibility_map, x, y, value):\n",
    "                # print(\"visible on down\")\n",
    "                visibility_map.set(x, y, '.', 'v')\n",
    "                continue\n",
    "            else:\n",
    "                # print(\"hidden\")\n",
    "                visibility_map.set(x, y, '.', 'h')\n",
    "visibility_map.print_asc()\n",
    "\n",
    "count_lambda = lambda x: x in ['e','v']\n",
    "\n",
    "result = visibility_map.count(count_lambda)\n",
    "print(result)"
   ]
  },
  {
   "cell_type": "code",
   "execution_count": null,
   "metadata": {},
   "outputs": [],
   "source": []
  }
 ],
 "metadata": {
  "kernelspec": {
   "display_name": "Python 3",
   "language": "python",
   "name": "python3"
  },
  "language_info": {
   "codemirror_mode": {
    "name": "ipython",
    "version": 3
   },
   "file_extension": ".py",
   "mimetype": "text/x-python",
   "name": "python",
   "nbconvert_exporter": "python",
   "pygments_lexer": "ipython3",
   "version": "3.11.0"
  },
  "orig_nbformat": 4,
  "vscode": {
   "interpreter": {
    "hash": "70f92ed5a2f7a930226c52dd63510ead1dc258ee26223dd435d177fbb2bbc182"
   }
  }
 },
 "nbformat": 4,
 "nbformat_minor": 2
}
