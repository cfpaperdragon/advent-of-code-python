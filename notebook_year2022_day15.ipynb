{
 "cells": [
  {
   "cell_type": "code",
   "execution_count": 2,
   "metadata": {},
   "outputs": [],
   "source": [
    "import aoc.common.process_input\n",
    "import aoc.year2022.day15"
   ]
  },
  {
   "cell_type": "code",
   "execution_count": 3,
   "metadata": {},
   "outputs": [],
   "source": [
    "fileContent = aoc.common.process_input.read_file(\"input\\\\year2022\\\\day15\\\\example.txt\")        \n",
    "input_list = aoc.common.process_input.to_function_list(fileContent, str)"
   ]
  },
  {
   "cell_type": "code",
   "execution_count": 4,
   "metadata": {},
   "outputs": [
    {
     "data": {
      "text/plain": [
       "((2, 18), (-2, 15))"
      ]
     },
     "execution_count": 4,
     "metadata": {},
     "output_type": "execute_result"
    }
   ],
   "source": [
    "# Sensor at x=2, y=18: closest beacon is at x=-2, y=15\n",
    "def process_line(line):\n",
    "    parts = line.split(' ')\n",
    "\n",
    "    sensor_x_str = parts[2]\n",
    "    sensor_x = int(sensor_x_str[2:-1])\n",
    "    sensor_y_str = parts[3]\n",
    "    sensor_y = int(sensor_y_str[2:-1])\n",
    "\n",
    "    beacon_x_str = parts[8]\n",
    "    beacon_x = int(beacon_x_str[2:-1])\n",
    "    beacon_y_str = parts[9]\n",
    "    beacon_y = int(beacon_y_str[2:])\n",
    "    \n",
    "    return (sensor_x, sensor_y), (beacon_x, beacon_y)\n",
    "\n",
    "process_line(\"Sensor at x=2, y=18: closest beacon is at x=-2, y=15\")"
   ]
  },
  {
   "cell_type": "code",
   "execution_count": 5,
   "metadata": {},
   "outputs": [
    {
     "name": "stdout",
     "output_type": "stream",
     "text": [
      "[((13, 2), (15, 3), 3), ((8, 7), (2, 10), 9), ((2, 0), (2, 10), 10), ((20, 1), (15, 3), 7)]\n",
      "[(12, 14), (6, 10), (-8, 12), (14, 26)]\n"
     ]
    }
   ],
   "source": [
    "sensor_beacon_pairs = []\n",
    "for input in input_list:\n",
    "    sensor, beacon = process_line(input)\n",
    "    sensor_beacon_pairs.append((sensor, beacon))\n",
    "\n",
    "y_line = 0 # for the example, that's another thing we need to make sure it is passed\n",
    "\n",
    "# need to check if the circle with sensor as center, and radius the vector \"sensor-beacon\" intersects line Y=YLINE\n",
    "\n",
    "cross_pairs_and_md = []\n",
    "for sbp in sensor_beacon_pairs:\n",
    "    s = sbp[0]\n",
    "    b = sbp[1]\n",
    "    md = abs(s[0]-b[0]) + abs(s[1]-b[1])\n",
    "    if s[1] < y_line:\n",
    "        if s[1] + md > y_line:\n",
    "            # print(sbp, \"crosses line\", y_line, \"distance\", md)\n",
    "            cross_pairs_and_md.append((sbp[0], sbp[1], md))\n",
    "    elif s[1] > y_line:\n",
    "        if s[1] - md < y_line:\n",
    "            # print(sbp, \"crosses line\", y_line, \"distance\", md)\n",
    "            cross_pairs_and_md.append((sbp[0], sbp[1], md))\n",
    "    else: # s[1] == y_line\n",
    "        # print(sbp, \"crosses line\", y_line, \"distance\", md)\n",
    "        cross_pairs_and_md.append((sbp[0], sbp[1], md))\n",
    "\n",
    "print(cross_pairs_and_md)\n",
    "\n",
    "intersect_x = []\n",
    "intersect_x_pairs = []\n",
    "for cp in cross_pairs_and_md:\n",
    "    s = cp[0]\n",
    "    b = cp[1]\n",
    "    md = cp[2]\n",
    "\n",
    "    px_1 = - (md - abs(y_line - s[1])) + s[0]\n",
    "    px_2 = (md - abs(y_line - s[1])) + s[0]\n",
    "    intersect_x.append(px_1)\n",
    "    intersect_x.append(px_2)\n",
    "    intersect_x_pairs.append((px_1, px_2))\n",
    "    \n",
    "intersect_x.sort()\n",
    "print(intersect_x_pairs)\n",
    "min_x = intersect_x[0]\n",
    "max_x = intersect_x[-1]"
   ]
  },
  {
   "cell_type": "code",
   "execution_count": 6,
   "metadata": {},
   "outputs": [
    {
     "name": "stdout",
     "output_type": "stream",
     "text": [
      "[]\n"
     ]
    }
   ],
   "source": [
    "beacons_in_y_line = []\n",
    "for sbp in sensor_beacon_pairs:\n",
    "    b = sbp[1]\n",
    "    if b[1] == y_line:\n",
    "        if b[0] not in beacons_in_y_line:\n",
    "            beacons_in_y_line.append(b[0])\n",
    "\n",
    "print(beacons_in_y_line)"
   ]
  },
  {
   "cell_type": "code",
   "execution_count": 7,
   "metadata": {},
   "outputs": [
    {
     "name": "stdout",
     "output_type": "stream",
     "text": [
      "35\n"
     ]
    }
   ],
   "source": [
    "result = abs(min_x) + abs(max_x) + 1 - len(beacons_in_y_line)\n",
    "print(result)"
   ]
  },
  {
   "cell_type": "code",
   "execution_count": 19,
   "metadata": {},
   "outputs": [
    {
     "name": "stdout",
     "output_type": "stream",
     "text": [
      "2 {'s': (13, 2), 'b': (15, 3), 'md': 3, 'min_y': -1, 'max_y': 5, 'tp': 2, 'ip': [(12, 0), (14, 0)]}\n",
      "6 {'s': (8, 7), 'b': (2, 10), 'md': 9, 'min_y': -2, 'max_y': 16, 'tp': 7, 'ip': [(6, 0), (10, 0)]}\n",
      "7 {'s': (2, 0), 'b': (2, 10), 'md': 10, 'min_y': -10, 'max_y': 10, 'tp': 0, 'ip': [(-8, 0), (12, 0)]}\n",
      "13 {'s': (20, 1), 'b': (15, 3), 'md': 7, 'min_y': -6, 'max_y': 8, 'tp': 1, 'ip': [(14, 0), (26, 0)]}\n",
      "[[(11, 1), (15, 1)], [(5, 1), (11, 1)], [(-7, 1), (11, 1)], [(13, 1), (27, 1)]]\n",
      "2 {'s': (13, 2), 'b': (15, 3), 'md': 3, 'min_y': -1, 'max_y': 5, 'tp': 2, 'ip': [(11, 1), (15, 1)]}\n",
      "6 {'s': (8, 7), 'b': (2, 10), 'md': 9, 'min_y': -2, 'max_y': 16, 'tp': 7, 'ip': [(5, 1), (11, 1)]}\n",
      "7 {'s': (2, 0), 'b': (2, 10), 'md': 10, 'min_y': -10, 'max_y': 10, 'tp': 0, 'ip': [(-7, 1), (11, 1)]}\n",
      "13 {'s': (20, 1), 'b': (15, 3), 'md': 7, 'min_y': -6, 'max_y': 8, 'tp': 1, 'ip': [(13, 1), (27, 1)]}\n"
     ]
    }
   ],
   "source": [
    "# md = abs(point[x] - sensor[x]) + abs(point[y] - sensor[y])\n",
    "# tipping point is when x stops increasing and reaches its max value\n",
    "# max_x = sensor[0] + md\n",
    "# what's the y?\n",
    "# md = abs((sensor[x] + md) - sensor[x]) + abs(point[y] - sensor[y])\n",
    "# md = abs(sensor[x] + md - sensor[x]) + abs(point[y] - sensor[y])\n",
    "# md = md + abs(point[y] - sensor[y])\n",
    "# 0 = abs(point[y] - sensor[y])\n",
    "# point[y] = sensor[y]\n",
    "\n",
    "def check_intercepts(storage_dict, y_line):\n",
    "    \n",
    "    for i in storage_dict.keys():\n",
    "        if storage_dict[i][\"min_y\"] <= y_line and storage_dict[i][\"max_y\"] >= y_line:\n",
    "            # intersects\n",
    "            if y_line == storage_dict[i][\"min_y\"]:\n",
    "                if len(storage_dict[i][\"ip\"]) > 0: # sanity check\n",
    "                    raise Exception(\"interception points should be empty at \" + y_line + \" for \" + i)\n",
    "\n",
    "                point = (storage_dict[i][\"s\"][0], y_line)\n",
    "                storage_dict[i][\"ip\"].append(point) # there's only one point\n",
    "\n",
    "            elif y_line == (storage_dict[i][\"min_y\"] + 1): # one point becomes two\n",
    "                current_list = storage_dict[i][\"ip\"]\n",
    "                storage_dict[i][\"ip\"] = []\n",
    "                storage_dict[i][\"ip\"].append((current_list[0][0]-1, y_line))\n",
    "                storage_dict[i][\"ip\"].append((current_list[0][0]+1, y_line))\n",
    "\n",
    "            elif y_line > storage_dict[i][\"min_y\"] and y_line <= storage_dict[i][\"tp\"]: # until tipping point\n",
    "                current_list = storage_dict[i][\"ip\"]\n",
    "                storage_dict[i][\"ip\"] = []\n",
    "                storage_dict[i][\"ip\"].append((current_list[0][0]-1, y_line))\n",
    "                storage_dict[i][\"ip\"].append((current_list[1][0]+1, y_line))\n",
    "\n",
    "            elif y_line > storage_dict[i][\"tp\"] and y_line < storage_dict[i][\"max_y\"]: # until max_y\n",
    "                current_list = storage_dict[i][\"ip\"]\n",
    "                storage_dict[i][\"ip\"] = []\n",
    "                storage_dict[i][\"ip\"].append((current_list[0][0]+1, y_line))\n",
    "                storage_dict[i][\"ip\"].append((current_list[1][0]-1, y_line))\n",
    "\n",
    "            elif y_line == storage_dict[i][\"max_y\"]: # two points become 1\n",
    "                current_list = storage_dict[i][\"ip\"]\n",
    "                storage_dict[i][\"ip\"] = []\n",
    "                storage_dict[i][\"ip\"].append((current_list[0][0]+1, y_line))\n",
    "\n",
    "            else:\n",
    "                raise Exception(\"something went wrong\")\n",
    "                \n",
    "        else: # doesn't intersect\n",
    "            storage_dict[i][\"ip\"] = []\n",
    "\n",
    "\n",
    "def find_gaps_in_intercepts(storage):\n",
    "    intersect = []\n",
    "    for key in storage.keys():\n",
    "        if len(storage[key][\"ip\"]) > 0:\n",
    "            intersect.append(storage[key][\"ip\"])\n",
    "    if len(intersect) == 0:\n",
    "        return False, 0\n",
    "\n",
    "    first = intersect.pop(0)\n",
    "    if len(first) == 1:\n",
    "        max_x = first[0][0]\n",
    "        min_x = max_x\n",
    "    else:\n",
    "        max_x = max(first[0][0],first[1][0])\n",
    "        min_x = min(first[0][0],first[1][0])\n",
    "\n",
    "    ordered_intercept_x = []\n",
    "    ordered_intercept_x.append(min_x)\n",
    "    ordered_intercept_x.append(max_x)\n",
    "    \n",
    "    while len(intersect) > 0:\n",
    "        next = intersect.pop(0)\n",
    "       \n",
    "        if len(first) == 1:\n",
    "            max_x = first[0][0]\n",
    "            min_x = max_x\n",
    "        else:\n",
    "            max_x = max(first[0][0],first[1][0])\n",
    "            min_x = min(first[0][0],first[1][0])\n",
    " \n",
    "        # incomplete\n",
    "\n",
    "    return False, 0\n",
    "\n",
    "\n",
    "fileContent = aoc.common.process_input.read_file(\"input\\\\year2022\\\\day15\\\\example.txt\")        \n",
    "input_list = aoc.common.process_input.to_function_list(fileContent, str)\n",
    "\n",
    "storage = {}\n",
    "for i in range(len(input_list)):\n",
    "    record = {}\n",
    "    s, b = process_line(input_list[i])\n",
    "    md = abs(s[0]-b[0]) + abs(s[1]-b[1])\n",
    "    record[\"s\"] = s\n",
    "    record[\"b\"] = b\n",
    "    record[\"md\"] = md\n",
    "    record[\"min_y\"] = s[1] - md\n",
    "    record[\"max_y\"] = s[1] + md\n",
    "    record[\"tp\"] = s[1] # tipping point, max_x\n",
    "    record[\"ip\"] = [] # intersection points for the current y_line\n",
    "    storage[i] = record\n",
    "\n",
    "    # if there is intersections in line 0, need to init\n",
    "    if record[\"min_y\"] <= 0:\n",
    "        px_1 = - (md - abs(0 - s[1])) + s[0]\n",
    "        px_2 = (md - abs(0 - s[1])) + s[0]\n",
    "        record[\"ip\"].append((px_1, 0))\n",
    "        if px_1 != px_2:\n",
    "            record[\"ip\"].append((px_2, 0))\n",
    "    \n",
    "\n",
    "min_line = 0\n",
    "max_line = 2 # changes for input\n",
    "\n",
    "for key in storage.keys():\n",
    "    if len(storage[key][\"ip\"]) > 0:\n",
    "        print(key, storage[key])\n",
    "\n",
    "for y in range(min_line+1, max_line):\n",
    "    check_intercepts(storage, y)\n",
    "    has_gaps, x = find_gaps_in_intercepts(storage)\n",
    "    if has_gaps:\n",
    "        print(x, y)\n",
    "        break\n",
    "\n",
    "for key in storage.keys():\n",
    "    if len(storage[key][\"ip\"]) > 0:\n",
    "        print(key, storage[key])"
   ]
  },
  {
   "cell_type": "code",
   "execution_count": null,
   "metadata": {},
   "outputs": [],
   "source": [
    "# the idea for part 2\n",
    "# for each input line, calculate md and save it\n",
    "# for each y\n",
    "# calculate the intersections\n",
    "# after the first line, x goes up or down by 1, depending if I passed the further's x (equal to md)\n",
    "# need to change the calculation for the gap"
   ]
  }
 ],
 "metadata": {
  "kernelspec": {
   "display_name": "Python 3",
   "language": "python",
   "name": "python3"
  },
  "language_info": {
   "codemirror_mode": {
    "name": "ipython",
    "version": 3
   },
   "file_extension": ".py",
   "mimetype": "text/x-python",
   "name": "python",
   "nbconvert_exporter": "python",
   "pygments_lexer": "ipython3",
   "version": "3.11.0"
  },
  "orig_nbformat": 4,
  "vscode": {
   "interpreter": {
    "hash": "70f92ed5a2f7a930226c52dd63510ead1dc258ee26223dd435d177fbb2bbc182"
   }
  }
 },
 "nbformat": 4,
 "nbformat_minor": 2
}
