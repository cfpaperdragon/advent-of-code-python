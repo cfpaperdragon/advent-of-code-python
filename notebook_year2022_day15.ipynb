{
 "cells": [
  {
   "cell_type": "code",
   "execution_count": 23,
   "metadata": {},
   "outputs": [],
   "source": [
    "import aoc.common.process_input\n",
    "import aoc.year2022.day15"
   ]
  },
  {
   "cell_type": "code",
   "execution_count": 24,
   "metadata": {},
   "outputs": [],
   "source": [
    "fileContent = aoc.common.process_input.read_file(\"input\\\\year2022\\\\day15\\\\example.txt\")        \n",
    "input_list = aoc.common.process_input.to_function_list(fileContent, str)"
   ]
  },
  {
   "cell_type": "code",
   "execution_count": 25,
   "metadata": {},
   "outputs": [
    {
     "data": {
      "text/plain": [
       "((2, 18), (-2, 15))"
      ]
     },
     "execution_count": 25,
     "metadata": {},
     "output_type": "execute_result"
    }
   ],
   "source": [
    "# Sensor at x=2, y=18: closest beacon is at x=-2, y=15\n",
    "def process_line(line):\n",
    "    parts = line.split(' ')\n",
    "\n",
    "    sensor_x_str = parts[2]\n",
    "    sensor_x = int(sensor_x_str[2:-1])\n",
    "    sensor_y_str = parts[3]\n",
    "    sensor_y = int(sensor_y_str[2:-1])\n",
    "\n",
    "    beacon_x_str = parts[8]\n",
    "    beacon_x = int(beacon_x_str[2:-1])\n",
    "    beacon_y_str = parts[9]\n",
    "    beacon_y = int(beacon_y_str[2:])\n",
    "    \n",
    "    return (sensor_x, sensor_y), (beacon_x, beacon_y)\n",
    "\n",
    "process_line(\"Sensor at x=2, y=18: closest beacon is at x=-2, y=15\")"
   ]
  },
  {
   "cell_type": "code",
   "execution_count": 33,
   "metadata": {},
   "outputs": [
    {
     "name": "stdout",
     "output_type": "stream",
     "text": [
      "[-2, 2, 2, 14, 14, 16, 18, 24]\n"
     ]
    }
   ],
   "source": [
    "sensor_beacon_pairs = []\n",
    "for input in input_list:\n",
    "    sensor, beacon = process_line(input)\n",
    "    sensor_beacon_pairs.append((sensor, beacon))\n",
    "\n",
    "y_line = 10 # for the example, that's another thing we need to make sure it is passed\n",
    "\n",
    "# need to check if the circle with sensor as center, and radius the vector \"sensor-beacon\" intersects line Y=YLINE\n",
    "\n",
    "cross_pairs_and_md = []\n",
    "for sbp in sensor_beacon_pairs:\n",
    "    s = sbp[0]\n",
    "    b = sbp[1]\n",
    "    md = abs(s[0]-b[0]) + abs(s[1]-b[1])\n",
    "    if s[1] < y_line:\n",
    "        if s[1] + md > y_line:\n",
    "            # print(sbp, \"crosses line\", y_line, \"distance\", md)\n",
    "            cross_pairs_and_md.append((sbp[0], sbp[1], md))\n",
    "    elif s[1] > y_line:\n",
    "        if s[1] - md < y_line:\n",
    "            # print(sbp, \"crosses line\", y_line, \"distance\", md)\n",
    "            cross_pairs_and_md.append((sbp[0], sbp[1], md))\n",
    "    else: # s[1] == y_line\n",
    "        # print(sbp, \"crosses line\", y_line, \"distance\", md)\n",
    "        cross_pairs_and_md.append((sbp[0], sbp[1], md))\n",
    "\n",
    "intersect_x = []\n",
    "for cp in cross_pairs_and_md:\n",
    "    s = cp[0]\n",
    "    b = cp[1]\n",
    "    md = cp[2]\n",
    "\n",
    "    px_1 = - (md - abs(y_line - s[1])) + s[0]\n",
    "    px_2 = (md - abs(y_line - s[1])) + s[0]\n",
    "    intersect_x.append(px_1)\n",
    "    intersect_x.append(px_2)\n",
    "    \n",
    "intersect_x.sort()\n",
    "print(intersect_x)\n",
    "min_x = intersect_x[0]\n",
    "max_x = intersect_x[-1]"
   ]
  },
  {
   "cell_type": "code",
   "execution_count": 30,
   "metadata": {},
   "outputs": [
    {
     "name": "stdout",
     "output_type": "stream",
     "text": [
      "[2]\n"
     ]
    }
   ],
   "source": [
    "beacons_in_y_line = []\n",
    "for sbp in sensor_beacon_pairs:\n",
    "    b = sbp[1]\n",
    "    if b[1] == y_line:\n",
    "        if b[0] not in beacons_in_y_line:\n",
    "            beacons_in_y_line.append(b[0])\n",
    "\n",
    "print(beacons_in_y_line)"
   ]
  },
  {
   "cell_type": "code",
   "execution_count": 35,
   "metadata": {},
   "outputs": [
    {
     "name": "stdout",
     "output_type": "stream",
     "text": [
      "26\n"
     ]
    }
   ],
   "source": [
    "result = abs(min_x) + abs(max_x) + 1 - len(beacons_in_y_line)\n",
    "print(result)"
   ]
  },
  {
   "cell_type": "code",
   "execution_count": null,
   "metadata": {},
   "outputs": [],
   "source": []
  }
 ],
 "metadata": {
  "kernelspec": {
   "display_name": "Python 3.10.5 64-bit",
   "language": "python",
   "name": "python3"
  },
  "language_info": {
   "codemirror_mode": {
    "name": "ipython",
    "version": 3
   },
   "file_extension": ".py",
   "mimetype": "text/x-python",
   "name": "python",
   "nbconvert_exporter": "python",
   "pygments_lexer": "ipython3",
   "version": "3.10.5"
  },
  "orig_nbformat": 4,
  "vscode": {
   "interpreter": {
    "hash": "607db476e417971f05b607c2dd14e77ee8262c2c4c20dea422522c60605a222a"
   }
  }
 },
 "nbformat": 4,
 "nbformat_minor": 2
}
