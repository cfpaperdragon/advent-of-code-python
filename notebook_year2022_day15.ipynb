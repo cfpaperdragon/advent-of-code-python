{
 "cells": [
  {
   "cell_type": "code",
   "execution_count": 134,
   "metadata": {},
   "outputs": [],
   "source": [
    "import aoc.common.process_input\n",
    "import aoc.year2022.day15"
   ]
  },
  {
   "cell_type": "code",
   "execution_count": 135,
   "metadata": {},
   "outputs": [],
   "source": [
    "fileContent = aoc.common.process_input.read_file(\"input\\\\year2022\\\\day15\\\\example.txt\")        \n",
    "input_list = aoc.common.process_input.to_function_list(fileContent, str)"
   ]
  },
  {
   "cell_type": "code",
   "execution_count": 136,
   "metadata": {},
   "outputs": [
    {
     "data": {
      "text/plain": [
       "((2, 18), (-2, 15))"
      ]
     },
     "execution_count": 136,
     "metadata": {},
     "output_type": "execute_result"
    }
   ],
   "source": [
    "# Sensor at x=2, y=18: closest beacon is at x=-2, y=15\n",
    "def process_line(line):\n",
    "    parts = line.split(' ')\n",
    "\n",
    "    sensor_x_str = parts[2]\n",
    "    sensor_x = int(sensor_x_str[2:-1])\n",
    "    sensor_y_str = parts[3]\n",
    "    sensor_y = int(sensor_y_str[2:-1])\n",
    "\n",
    "    beacon_x_str = parts[8]\n",
    "    beacon_x = int(beacon_x_str[2:-1])\n",
    "    beacon_y_str = parts[9]\n",
    "    beacon_y = int(beacon_y_str[2:])\n",
    "    \n",
    "    return (sensor_x, sensor_y), (beacon_x, beacon_y)\n",
    "\n",
    "process_line(\"Sensor at x=2, y=18: closest beacon is at x=-2, y=15\")"
   ]
  },
  {
   "cell_type": "code",
   "execution_count": 137,
   "metadata": {},
   "outputs": [
    {
     "name": "stdout",
     "output_type": "stream",
     "text": [
      "[((13, 2), (15, 3), 3), ((8, 7), (2, 10), 9), ((2, 0), (2, 10), 10), ((20, 1), (15, 3), 7)]\n",
      "[(12, 14), (6, 10), (-8, 12), (14, 26)]\n"
     ]
    }
   ],
   "source": [
    "sensor_beacon_pairs = []\n",
    "for input in input_list:\n",
    "    sensor, beacon = process_line(input)\n",
    "    sensor_beacon_pairs.append((sensor, beacon))\n",
    "\n",
    "y_line = 0 # for the example, that's another thing we need to make sure it is passed\n",
    "\n",
    "# need to check if the circle with sensor as center, and radius the vector \"sensor-beacon\" intersects line Y=YLINE\n",
    "\n",
    "cross_pairs_and_md = []\n",
    "for sbp in sensor_beacon_pairs:\n",
    "    s = sbp[0]\n",
    "    b = sbp[1]\n",
    "    md = abs(s[0]-b[0]) + abs(s[1]-b[1])\n",
    "    if s[1] < y_line:\n",
    "        if s[1] + md > y_line:\n",
    "            # print(sbp, \"crosses line\", y_line, \"distance\", md)\n",
    "            cross_pairs_and_md.append((sbp[0], sbp[1], md))\n",
    "    elif s[1] > y_line:\n",
    "        if s[1] - md < y_line:\n",
    "            # print(sbp, \"crosses line\", y_line, \"distance\", md)\n",
    "            cross_pairs_and_md.append((sbp[0], sbp[1], md))\n",
    "    else: # s[1] == y_line\n",
    "        # print(sbp, \"crosses line\", y_line, \"distance\", md)\n",
    "        cross_pairs_and_md.append((sbp[0], sbp[1], md))\n",
    "\n",
    "print(cross_pairs_and_md)\n",
    "\n",
    "intersect_x = []\n",
    "intersect_x_pairs = []\n",
    "for cp in cross_pairs_and_md:\n",
    "    s = cp[0]\n",
    "    b = cp[1]\n",
    "    md = cp[2]\n",
    "\n",
    "    px_1 = - (md - abs(y_line - s[1])) + s[0]\n",
    "    px_2 = (md - abs(y_line - s[1])) + s[0]\n",
    "    intersect_x.append(px_1)\n",
    "    intersect_x.append(px_2)\n",
    "    intersect_x_pairs.append((px_1, px_2))\n",
    "    \n",
    "intersect_x.sort()\n",
    "print(intersect_x_pairs)\n",
    "min_x = intersect_x[0]\n",
    "max_x = intersect_x[-1]"
   ]
  },
  {
   "cell_type": "code",
   "execution_count": 138,
   "metadata": {},
   "outputs": [
    {
     "name": "stdout",
     "output_type": "stream",
     "text": [
      "[]\n"
     ]
    }
   ],
   "source": [
    "beacons_in_y_line = []\n",
    "for sbp in sensor_beacon_pairs:\n",
    "    b = sbp[1]\n",
    "    if b[1] == y_line:\n",
    "        if b[0] not in beacons_in_y_line:\n",
    "            beacons_in_y_line.append(b[0])\n",
    "\n",
    "print(beacons_in_y_line)"
   ]
  },
  {
   "cell_type": "code",
   "execution_count": 139,
   "metadata": {},
   "outputs": [
    {
     "name": "stdout",
     "output_type": "stream",
     "text": [
      "35\n"
     ]
    }
   ],
   "source": [
    "result = abs(min_x) + abs(max_x) + 1 - len(beacons_in_y_line)\n",
    "print(result)"
   ]
  },
  {
   "cell_type": "code",
   "execution_count": 140,
   "metadata": {},
   "outputs": [
    {
     "name": "stdout",
     "output_type": "stream",
     "text": [
      "(3907621, 2895218) (3790542, 2949630) 171491\n",
      "(1701067, 3075142) (2275951, 3717327) 1217069\n",
      "(3532369, 884718) (2733699, 2000000) 1913952\n",
      "(2362427, 41763) (2999439, -958188) 1636963\n",
      "(398408, 3688691) (2275951, 3717327) 1906179\n",
      "(1727615, 1744968) (2733699, 2000000) 1261116\n",
      "(2778183, 3611924) (2275951, 3717327) 607635\n",
      "(2452818, 2533012) (2733699, 2000000) 813893\n",
      "(88162, 2057063) (-109096, 390805) 1863516\n",
      "(2985370, 2315046) (2733699, 2000000) 566717\n",
      "(2758780, 3000106) (3279264, 2775610) 744980\n",
      "(3501114, 3193710) (3790542, 2949630) 533508\n",
      "(313171, 1016326) (-109096, 390805) 1047788\n",
      "(3997998, 3576392) (3691556, 3980872) 710922\n",
      "(84142, 102550) (-109096, 390805) 481493\n",
      "(3768533, 3985372) (3691556, 3980872) 81477\n",
      "(2999744, 3998031) (3691556, 3980872) 708971\n",
      "(3380504, 2720962) (3279264, 2775610) 155888\n",
      "(3357940, 3730208) (3691556, 3980872) 584280\n",
      "(1242851, 838744) (-109096, 390805) 1799886\n",
      "(3991401, 2367688) (3790542, 2949630) 782801\n",
      "(3292286, 2624894) (3279264, 2775610) 163738\n",
      "(2194423, 3990859) (2275951, 3717327) 355060\n"
     ]
    }
   ],
   "source": [
    "fileContent = aoc.common.process_input.read_file(\"input\\\\year2022\\\\day15\\\\input.txt\")        \n",
    "input_list = aoc.common.process_input.to_function_list(fileContent, str)\n",
    "\n",
    "sensor_beacon_pairs = []\n",
    "for input in input_list:\n",
    "    sensor, beacon = process_line(input)\n",
    "    sensor_beacon_pairs.append((sensor, beacon))\n",
    "    \n",
    "pairs_and_md = []\n",
    "for sbp in sensor_beacon_pairs:\n",
    "    s = sbp[0]\n",
    "    b = sbp[1]\n",
    "    md = abs(s[0]-b[0]) + abs(s[1]-b[1])\n",
    "    pairs_and_md.append((s, b, md))   \n",
    "\n",
    "for pm in pairs_and_md:\n",
    "    print(pm[0], pm[1], pm[2])"
   ]
  },
  {
   "cell_type": "code",
   "execution_count": null,
   "metadata": {},
   "outputs": [],
   "source": []
  }
 ],
 "metadata": {
  "kernelspec": {
   "display_name": "Python 3",
   "language": "python",
   "name": "python3"
  },
  "language_info": {
   "codemirror_mode": {
    "name": "ipython",
    "version": 3
   },
   "file_extension": ".py",
   "mimetype": "text/x-python",
   "name": "python",
   "nbconvert_exporter": "python",
   "pygments_lexer": "ipython3",
   "version": "3.10.0"
  },
  "orig_nbformat": 4,
  "vscode": {
   "interpreter": {
    "hash": "26de051ba29f2982a8de78e945f0abaf191376122a1563185a90213a26c5da77"
   }
  }
 },
 "nbformat": 4,
 "nbformat_minor": 2
}
