{
 "cells": [
  {
   "cell_type": "code",
   "execution_count": 1,
   "metadata": {},
   "outputs": [],
   "source": [
    "import aoc.common.process_input\n",
    "import aoc.year2022.day19"
   ]
  },
  {
   "cell_type": "code",
   "execution_count": 2,
   "metadata": {},
   "outputs": [],
   "source": [
    "fileContent = aoc.common.process_input.read_file(\"input\\\\year2022\\\\day19\\\\example.txt\")        \n",
    "input_list = aoc.common.process_input.to_function_list(fileContent, str)"
   ]
  },
  {
   "cell_type": "code",
   "execution_count": 6,
   "metadata": {},
   "outputs": [
    {
     "name": "stdout",
     "output_type": "stream",
     "text": [
      "1 {'id': 1, 'ore-robot': (4, 0, 0, 0), 'clay-robot': (2, 0, 0, 0), 'obsidian-robot': (3, 14, 0, 0), 'geode-robot': (2, 0, 7, 0)}\n"
     ]
    }
   ],
   "source": [
    "blueprint1 = 'Blueprint 1: Each ore robot costs 4 ore. Each clay robot costs 2 ore. Each obsidian robot costs 3 ore and 14 clay. Each geode robot costs 2 ore and 7 obsidian.'\n",
    "\n",
    "def parse_blueprint(blueprint):\n",
    "    # resources = (ore, clay, obsidian, geode)\n",
    "    parts = blueprint.split(':')\n",
    "    b_id = int(parts[0][10:])\n",
    "    cost_parts = parts[1].strip().split('.')\n",
    "    ore_robot_cost_parts = cost_parts[0].strip().split(' ')\n",
    "    ore_robot_cost = int(ore_robot_cost_parts[4])\n",
    "    clay_robot_cost_parts = cost_parts[1].strip().split(' ')\n",
    "    clay_robot_cost = int(clay_robot_cost_parts[4])\n",
    "    obsidian_robot_cost_parts = cost_parts[2].strip().split(' ')\n",
    "    obsidian_robot_cost_ore = int(obsidian_robot_cost_parts[4])\n",
    "    obsidian_robot_cost_clay = int(obsidian_robot_cost_parts[7])\n",
    "    geode_robot_cost_parts = cost_parts[3].strip().split(' ')\n",
    "    geode_robot_cost_ore = int(geode_robot_cost_parts[4])\n",
    "    geode_robot_cost_obsidian = int(geode_robot_cost_parts[7])\n",
    "    b = {}\n",
    "    b['id'] = b_id\n",
    "    b['ore-robot'] = (ore_robot_cost, 0, 0, 0)\n",
    "    b['clay-robot'] = (clay_robot_cost, 0, 0, 0)\n",
    "    b['obsidian-robot'] = (obsidian_robot_cost_ore, obsidian_robot_cost_clay, 0, 0)\n",
    "    b['geode-robot'] = (geode_robot_cost_ore, 0, geode_robot_cost_obsidian, 0)\n",
    "\n",
    "    return b_id, b\n",
    "\n",
    "blueprint_id, blueprint = parse_blueprint(blueprint1)\n",
    "print(blueprint_id, blueprint)"
   ]
  },
  {
   "cell_type": "code",
   "execution_count": null,
   "metadata": {},
   "outputs": [],
   "source": [
    "# Each robot can collect 1 of its resource type per minute.\n",
    "# It also takes one minute for the robot factory to construct any type of robot\n",
    "# the factory consumes the necessary resources when construction begins\n",
    "\n",
    "ore_robot = lambda : (1, 0, 0, 0)\n",
    "clay_robot = lambda : (0, 1, 0, 0)\n",
    "obsidian_robot = lambda : (0, 0, 1, 0)\n",
    "geode_robot = lambda : (0, 0, 0, 1)\n",
    "\n",
    "def resource_add(r1, r2):\n",
    "    ore = r1[0] + r2[0]\n",
    "    clay = r1[1] + r2[1]\n",
    "    obsidian = r1[2] + r2[2]\n",
    "    geode = r1[3] + r2[3]\n",
    "    r = (ore, clay, obsidian, geode)\n",
    "    return r\n",
    "\n",
    "def resource_can_sub(r1, r2):\n",
    "    return r1[0] >= r2[0] and r1[1] >= r2[1] and r1[2] >= r2[2] and r1[3] >= r2[3]\n",
    "\n",
    "def resource_sub(r1, r2):\n",
    "    ore = r1[0] + r2[0]\n",
    "    clay = r1[1] + r2[1]\n",
    "    obsidian = r1[2] + r2[2]\n",
    "    geode = r1[3] + r2[3]\n",
    "    r = (ore, clay, obsidian, geode)\n",
    "    return r    \n",
    "\n",
    "class Factory:\n",
    "\n",
    "    self.robot_template = {\n",
    "        'ore-robot': ore_robot,\n",
    "        'clay-robot': clay_robot,\n",
    "        'obsidian-robot': obsidian_robot,\n",
    "        'geode-robot': geode_robot\n",
    "    }\n",
    "\n",
    "    def __init__(self, blueprint):\n",
    "        self.blueprint = blueprint\n",
    "\n",
    "    def make_robot(self, robot_type, total_resources):\n",
    "        resource_needed = self.blueprint[robot_type]\n",
    "        if resource_can_sub(total_resources):\n",
    "            remaining_resources = resource_sub(total_resources, resource_needed)\n",
    "            robot = self.robot_template[tobot_type]\n",
    "            return True, robot, remaining_resources\n",
    "        else:\n",
    "            return False, None, total_resources\n"
   ]
  }
 ],
 "metadata": {
  "kernelspec": {
   "display_name": "Python 3",
   "language": "python",
   "name": "python3"
  },
  "language_info": {
   "codemirror_mode": {
    "name": "ipython",
    "version": 3
   },
   "file_extension": ".py",
   "mimetype": "text/x-python",
   "name": "python",
   "nbconvert_exporter": "python",
   "pygments_lexer": "ipython3",
   "version": "3.10.0"
  },
  "orig_nbformat": 4,
  "vscode": {
   "interpreter": {
    "hash": "26de051ba29f2982a8de78e945f0abaf191376122a1563185a90213a26c5da77"
   }
  }
 },
 "nbformat": 4,
 "nbformat_minor": 2
}
