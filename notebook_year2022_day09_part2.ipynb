{
 "cells": [
  {
   "cell_type": "code",
   "execution_count": 17,
   "metadata": {},
   "outputs": [],
   "source": [
    "import aoc.common.process_input\n",
    "import aoc.year2022.day09\n",
    "from aoc.year2022.map import Map2d as Map2d\n",
    "\n",
    "def move_all_rope(rope_map, rope, direction, amount):\n",
    "    while amount > 0:\n",
    "        amount -= 1\n",
    "        rope = move_one_all_rope(rope_map, rope, direction)\n",
    "    # print_rope_segments(rope, '.')\n",
    "    return rope\n",
    "    \n",
    "def move_one_all_rope(rope_map, rope, direction):\n",
    "    new_pos = rope.copy()\n",
    "    # head moves always\n",
    "    new_pos[0] = aoc.year2022.day09.move_head_one(rope[0], direction)\n",
    "    for i in range(1, 10):\n",
    "        new_pos[i] = aoc.year2022.day09.move_tail_if_needed(new_pos[i-1], rope[i])\n",
    "        if new_pos[i] == rope[i]:\n",
    "            break # this segment didn't move, no point continuing\n",
    "        if i == 9: # reached the last segment aka tail\n",
    "            rope_map.set(new_pos[i][0], new_pos[i][1], \".\", \"#\")\n",
    "    return new_pos\n",
    "\n",
    "def print_rope_segments(rope, start_value):\n",
    "    empty_map = Map2d(0, 5, 0, 4, start_value)\n",
    "    for i in range(10):\n",
    "        if empty_map.get(rope[i][0], rope[i][1]) == start_value:\n",
    "            empty_map.set(rope[i][0], rope[i][1], start_value, i)\n",
    "    empty_map.print()\n",
    "     "
   ]
  },
  {
   "cell_type": "code",
   "execution_count": 18,
   "metadata": {},
   "outputs": [],
   "source": [
    "fileContent = aoc.common.process_input.read_file(\"input\\\\year2022\\\\day09\\\\example2.txt\")        \n",
    "input_content = aoc.common.process_input.to_function_list(fileContent, str)"
   ]
  },
  {
   "cell_type": "code",
   "execution_count": 19,
   "metadata": {},
   "outputs": [],
   "source": [
    "rope_map = Map2d(0, 5, 0, 4, '.')\n",
    "start = (0, 0)\n",
    "rope = {\n",
    "    0: start,\n",
    "    1: start,\n",
    "    2: start,\n",
    "    3: start,\n",
    "    4: start,\n",
    "    5: start,\n",
    "    6: start,\n",
    "    7: start,\n",
    "    8: start,\n",
    "    9: start\n",
    "}"
   ]
  },
  {
   "cell_type": "code",
   "execution_count": 20,
   "metadata": {},
   "outputs": [
    {
     "name": "stdout",
     "output_type": "stream",
     "text": [
      "36\n"
     ]
    }
   ],
   "source": [
    "for input in input_content:\n",
    "    parts = input.split(' ')\n",
    "    direction = parts[0]\n",
    "    amount = int(parts[1])\n",
    "    # print(rope)\n",
    "    rope = move_all_rope(rope_map, rope, direction, amount)\n",
    "rope_map.set(0, 0, '.', '#') # set start position\n",
    "count = rope_map.count(lambda a: a == '#')\n",
    "print(count)       "
   ]
  },
  {
   "cell_type": "code",
   "execution_count": null,
   "metadata": {},
   "outputs": [],
   "source": []
  }
 ],
 "metadata": {
  "kernelspec": {
   "display_name": "Python 3",
   "language": "python",
   "name": "python3"
  },
  "language_info": {
   "codemirror_mode": {
    "name": "ipython",
    "version": 3
   },
   "file_extension": ".py",
   "mimetype": "text/x-python",
   "name": "python",
   "nbconvert_exporter": "python",
   "pygments_lexer": "ipython3",
   "version": "3.11.0"
  },
  "orig_nbformat": 4,
  "vscode": {
   "interpreter": {
    "hash": "70f92ed5a2f7a930226c52dd63510ead1dc258ee26223dd435d177fbb2bbc182"
   }
  }
 },
 "nbformat": 4,
 "nbformat_minor": 2
}
