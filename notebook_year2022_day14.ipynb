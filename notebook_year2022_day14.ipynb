{
 "cells": [
  {
   "cell_type": "code",
   "execution_count": 58,
   "metadata": {},
   "outputs": [],
   "source": [
    "import aoc.common.process_input\n",
    "import aoc.year2022.day14\n",
    "from aoc.year2022.map import Map2d as Map2d"
   ]
  },
  {
   "cell_type": "code",
   "execution_count": 59,
   "metadata": {},
   "outputs": [],
   "source": [
    "# parse input\n",
    "# 498,4 -> 498,6 -> 496,6\n",
    "# 503,4 -> 502,4 -> 502,9 -> 494,9\n",
    "def parse_input(input_list):\n",
    "    count = 1\n",
    "    rocks_dict = {}\n",
    "    for input in input_list:\n",
    "        rocks_dict[count] = []\n",
    "        points = input.strip().split(\" -> \")\n",
    "        for point in points:\n",
    "            coordenates = point.strip().split(',')\n",
    "            actual_point = (int(coordenates[0]), int(coordenates[1]))\n",
    "            rocks_dict[count].append(actual_point)\n",
    "        count += 1\n",
    "    return rocks_dict"
   ]
  },
  {
   "cell_type": "code",
   "execution_count": 60,
   "metadata": {},
   "outputs": [
    {
     "name": "stdout",
     "output_type": "stream",
     "text": [
      "............\n",
      "............\n",
      "............\n",
      "............\n",
      "............\n",
      ".....#...##.\n",
      ".....#...#..\n",
      "...###...#..\n",
      ".........#..\n",
      ".........#..\n",
      ".#########..\n",
      "............\n"
     ]
    }
   ],
   "source": [
    "fileContent = aoc.common.process_input.read_file(\"input\\\\year2022\\\\day14\\\\example.txt\")        \n",
    "input_list = aoc.common.process_input.to_function_list(fileContent, str)\n",
    "\n",
    "rocks_dict = parse_input(input_list)\n",
    "\n",
    "min_x = 9000\n",
    "max_x = 0\n",
    "min_y = 0\n",
    "max_y = 0\n",
    "\n",
    "for key in rocks_dict.keys():\n",
    "    points = rocks_dict[key]\n",
    "    points_x = [a[0] for a in points]\n",
    "    points_y = [a[1] for a in points]\n",
    "    min_x = min(min_x, min(points_x))\n",
    "    max_x = max(max_x, max(points_x))\n",
    "    max_y = max(max_y, max(points_y))\n",
    "\n",
    "# print(min_x, max_x, min_y, max_y)\n",
    "\n",
    "grid = Map2d(min_x-1, max_x+1, min_y-1, max_y+1, '.')\n",
    "\n",
    "for key in rocks_dict.keys():\n",
    "    points = rocks_dict[key]\n",
    "    for i in range(1, len(points)):\n",
    "        # draw the rock line from i-1 to i\n",
    "        source = points[i-1]\n",
    "        target = points[i]\n",
    "        if source[0] == target[0]: # y changes, draw vertical line \n",
    "            for j in range(min(source[1], target[1]), max(source[1], target[1])+1):\n",
    "                grid.set(source[0], j, '.', '#')\n",
    "        else: # x changes, draw horizontal line\n",
    "            for j in range(min(source[0], target[0]), max(source[0], target[0])+1):\n",
    "                grid.set(j, source[1], '.', '#')\n",
    "\n",
    "grid.print_asc()\n",
    "\n"
   ]
  },
  {
   "cell_type": "code",
   "execution_count": 61,
   "metadata": {},
   "outputs": [
    {
     "name": "stdout",
     "output_type": "stream",
     "text": [
      "............\n",
      "............\n",
      "............\n",
      ".......o....\n",
      "......ooo...\n",
      ".....#ooo##.\n",
      "....o#ooo#..\n",
      "...###ooo#..\n",
      ".....oooo#..\n",
      "..o.ooooo#..\n",
      ".#########..\n",
      "............\n",
      "24\n"
     ]
    }
   ],
   "source": [
    "sand_source = (500,0)\n",
    "\n",
    "# drop 1 sand\n",
    "\n",
    "def move_grain_of_sand(grid, min_x, max_x, max_y, sand_source):\n",
    "    x = sand_source[0]\n",
    "    y = sand_source[1]\n",
    "\n",
    "    found_rest_position = False\n",
    "\n",
    "    while (x > min_x and x < max_x and y < max_y):\n",
    "        # print(x, y)\n",
    "        # down one step\n",
    "        if grid.get(x, y+1) == '.':\n",
    "            # print(\"down\")\n",
    "            y += 1\n",
    "        # one step down and to the left\n",
    "        elif grid.get(x-1, y+1) == '.':\n",
    "            # print(\"down + left\")\n",
    "            y += 1\n",
    "            x -= 1\n",
    "        # one step down and to the right\n",
    "        elif grid.get(x+1, y+1) == '.':\n",
    "            # print(\"down + right\")\n",
    "            y += 1\n",
    "            x += 1\n",
    "        else: # can't move any longer\n",
    "            # print(\"rest\")\n",
    "            found_rest_position = True\n",
    "            grid.set(x, y, '.', 'o')\n",
    "            break\n",
    "\n",
    "    return found_rest_position\n",
    "\n",
    "count_sand = 0\n",
    "\n",
    "found_rest_position = True\n",
    "\n",
    "while found_rest_position:\n",
    "    found_rest_position = move_grain_of_sand(grid, min_x, max_x, max_y, sand_source)\n",
    "    if found_rest_position:\n",
    "        count_sand += 1\n",
    "\n",
    "grid.print_asc()\n",
    "print(count_sand)\n",
    "\n"
   ]
  }
 ],
 "metadata": {
  "kernelspec": {
   "display_name": "Python 3.10.5 64-bit",
   "language": "python",
   "name": "python3"
  },
  "language_info": {
   "codemirror_mode": {
    "name": "ipython",
    "version": 3
   },
   "file_extension": ".py",
   "mimetype": "text/x-python",
   "name": "python",
   "nbconvert_exporter": "python",
   "pygments_lexer": "ipython3",
   "version": "3.10.5"
  },
  "orig_nbformat": 4,
  "vscode": {
   "interpreter": {
    "hash": "607db476e417971f05b607c2dd14e77ee8262c2c4c20dea422522c60605a222a"
   }
  }
 },
 "nbformat": 4,
 "nbformat_minor": 2
}
